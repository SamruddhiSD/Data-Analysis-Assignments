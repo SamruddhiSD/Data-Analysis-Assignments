{
 "cells": [
  {
   "cell_type": "code",
   "execution_count": 1,
   "metadata": {},
   "outputs": [
    {
     "name": "stdout",
     "output_type": "stream",
     "text": [
      "Enter any string:Logistic regression is the type of regression analysis used to find the probability of a certain event occurring. \n",
      "The words greater than length 5 are: ['Logistic', 'regression', 'regression', 'analysis', 'probability', 'certain', 'occurring.']\n"
     ]
    }
   ],
   "source": [
    "#1.\tWrite a Python program to find words which are greater than given length k?\n",
    "\n",
    "my_str = input('Enter any string:')\n",
    "my_lst = my_str.split()\n",
    "new_lst = []  #to store the words greater than length 5.\n",
    "length = 5\n",
    "for word in my_lst:\n",
    "    if len(word)> length:\n",
    "        new_lst.append(word)\n",
    "print('The words greater than length 5 are:',new_lst)"
   ]
  },
  {
   "cell_type": "code",
   "execution_count": 2,
   "metadata": {},
   "outputs": [
    {
     "name": "stdout",
     "output_type": "stream",
     "text": [
      "The original string was Programming\n",
      "String after removing ith character is Programing\n"
     ]
    }
   ],
   "source": [
    "#2.\tWrite a Python program for removing i-th character from a string?\n",
    "\n",
    "def remove_i(my_str,i):\n",
    "    #Characters before i\n",
    "    a = my_str[:i]\n",
    "    #Characters after i\n",
    "    b = my_str[i+1:]\n",
    "    return a+b\n",
    "\n",
    "s = remove_i('Programming',6)\n",
    "print('The original string was Programming')\n",
    "print('String after removing ith character is',s)\n"
   ]
  },
  {
   "cell_type": "code",
   "execution_count": 5,
   "metadata": {},
   "outputs": [
    {
     "name": "stdout",
     "output_type": "stream",
     "text": [
      "Enter any string:She sells sea shells at the seashore.\n",
      "Original string: She sells sea shells at the seashore.\n",
      "Splitted string: ['She', 'sells', 'sea', 'shells', 'at', 'the', 'seashore.']\n",
      "Joined string: She sells sea shells at the seashore.\n"
     ]
    }
   ],
   "source": [
    "#3.\tWrite a Python program to split and join a string?\n",
    "\n",
    "my_str = input('Enter any string:')\n",
    "print('Original string:', my_str)\n",
    "#Splitting the string-\n",
    "my_lst = my_str.split()\n",
    "print('Splitted string:', my_lst)\n",
    "#Join a string\n",
    "new_str = ' '.join(my_lst)\n",
    "print('Joined string:', new_str)"
   ]
  },
  {
   "cell_type": "code",
   "execution_count": 9,
   "metadata": {},
   "outputs": [
    {
     "name": "stdout",
     "output_type": "stream",
     "text": [
      "String is not a binary string.\n"
     ]
    }
   ],
   "source": [
    "#4.\tWrite a Python to check if a given string is binary string or not?\n",
    "\n",
    "my_str = \"0100011511012\"\n",
    "binary = {'0','1'}\n",
    "my_set = set(my_str)\n",
    "\n",
    "if binary == my_set or my_set == {'0'} or my_set == {'1'}:\n",
    "    print(\"String is a binary string.\")\n",
    "else:\n",
    "    print(\"String is not a binary string.\")"
   ]
  },
  {
   "cell_type": "code",
   "execution_count": 11,
   "metadata": {},
   "outputs": [
    {
     "name": "stdout",
     "output_type": "stream",
     "text": [
      "Enter first string:Healthy food for good health.\n",
      "Enter second string:Exercise and pranayam for good health.\n",
      "The uncommon words from  two strings are:\n",
      "['Healthy', 'food', 'Exercise', 'and', 'pranayam']\n"
     ]
    }
   ],
   "source": [
    "#5.\tWrite a Python program to find uncommon words from two Strings?\n",
    "\n",
    "str1 = input('Enter first string:')\n",
    "lst1 = str1.split()\n",
    "str2  = input('Enter second string:')\n",
    "lst2 = str2.split()\n",
    "uncommon = []\n",
    "for word in lst1:\n",
    "    if word not in lst2:\n",
    "        uncommon.append(word)\n",
    "for word in lst2:\n",
    "    if word not in lst1:\n",
    "        uncommon.append(word)\n",
    "print('The uncommon words from  two strings are:')\n",
    "print(uncommon)\n"
   ]
  },
  {
   "cell_type": "code",
   "execution_count": 19,
   "metadata": {},
   "outputs": [
    {
     "name": "stdout",
     "output_type": "stream",
     "text": [
      "Enter a string:mississipi\n",
      "The duplicates are:\n",
      "['i', 's']\n"
     ]
    }
   ],
   "source": [
    "#6.\tWrite a Python to find all duplicate characters in string?\n",
    "\n",
    "string = input('Enter a string:')\n",
    "## initializing a list to append all the duplicate characters\n",
    "duplicates = []\n",
    "for char in string:\n",
    "      if string.count(char) > 1:\n",
    "            if char not in duplicates:\n",
    "                duplicates.append(char)\n",
    "print('The duplicates are:')\n",
    "print(duplicates)"
   ]
  },
  {
   "cell_type": "code",
   "execution_count": 33,
   "metadata": {},
   "outputs": [
    {
     "name": "stdout",
     "output_type": "stream",
     "text": [
      "Enter a string:He@lllll!o\n",
      "Special character @ is present\n"
     ]
    }
   ],
   "source": [
    "#7.Write a Python Program to check if a string contains any special character?\n",
    "\n",
    "special_char = False\n",
    "string = input('Enter a string:')\n",
    "for letter in string:\n",
    "    if (not letter.isnumeric() and not letter.isalpha()):\n",
    "        special_char = True\n",
    "        break\n",
    "if special_char == True:\n",
    "    print('Special character {} is present'.format(letter))\n",
    "else:\n",
    "    print('Special Character not present ')\n",
    " "
   ]
  },
  {
   "cell_type": "code",
   "execution_count": null,
   "metadata": {},
   "outputs": [],
   "source": [
    "#---------------------End-----------------"
   ]
  }
 ],
 "metadata": {
  "kernelspec": {
   "display_name": "Python 3",
   "language": "python",
   "name": "python3"
  },
  "language_info": {
   "codemirror_mode": {
    "name": "ipython",
    "version": 3
   },
   "file_extension": ".py",
   "mimetype": "text/x-python",
   "name": "python",
   "nbconvert_exporter": "python",
   "pygments_lexer": "ipython3",
   "version": "3.8.5"
  },
  "varInspector": {
   "cols": {
    "lenName": 16,
    "lenType": 16,
    "lenVar": 40
   },
   "kernels_config": {
    "python": {
     "delete_cmd_postfix": "",
     "delete_cmd_prefix": "del ",
     "library": "var_list.py",
     "varRefreshCmd": "print(var_dic_list())"
    },
    "r": {
     "delete_cmd_postfix": ") ",
     "delete_cmd_prefix": "rm(",
     "library": "var_list.r",
     "varRefreshCmd": "cat(var_dic_list()) "
    }
   },
   "types_to_exclude": [
    "module",
    "function",
    "builtin_function_or_method",
    "instance",
    "_Feature"
   ],
   "window_display": false
  }
 },
 "nbformat": 4,
 "nbformat_minor": 4
}
