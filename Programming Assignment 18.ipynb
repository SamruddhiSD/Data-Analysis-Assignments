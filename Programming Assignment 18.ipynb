{
 "cells": [
  {
   "cell_type": "markdown",
   "metadata": {},
   "source": [
    "Question 1\n",
    "Create a function that takes a list of non-negative integers and strings and return a new list without the strings.\n",
    "Examples\n",
    "filter_list([1, 2, \"a\", \"b\"]) ➞ [1, 2]\n",
    "\n",
    "filter_list([1, \"a\", \"b\", 0, 15]) ➞ [1, 0, 15]\n",
    "\n",
    "filter_list([1, 2, \"aasf\", \"1\", \"123\", 123]) ➞ [1, 2, 123]\n"
   ]
  },
  {
   "cell_type": "code",
   "execution_count": 31,
   "metadata": {},
   "outputs": [
    {
     "name": "stdout",
     "output_type": "stream",
     "text": [
      "[1, 2]\n",
      "[1, 0, 15]\n",
      "[1, 2, 123]\n"
     ]
    }
   ],
   "source": [
    "def filter_list(my_list):\n",
    "    new_lst = []\n",
    "    for item in my_list:\n",
    "        if type(item)!= str and item >= 0:\n",
    "                new_lst.append(item)\n",
    "        elif type(item) == str:\n",
    "                continue\n",
    "    return new_lst\n",
    "\n",
    "print(filter_list([1, 2, \"a\", \"b\"]))\n",
    "print(filter_list([1, \"a\", \"b\", 0, 15]))\n",
    "print(filter_list([1, 2, \"aasf\", \"1\", \"123\", 123]))\n",
    "            "
   ]
  },
  {
   "cell_type": "code",
   "execution_count": null,
   "metadata": {},
   "outputs": [],
   "source": []
  },
  {
   "cell_type": "markdown",
   "metadata": {},
   "source": [
    "Question 2\n",
    "The \"Reverser\" takes a string as input and returns that string in reverse order, with the opposite case.\n",
    "Examples\n",
    "reverse(\"Hello World\") ➞ \"DLROw OLLEh\"\n",
    "\n",
    "reverse(\"ReVeRsE\") ➞ \"eSrEvEr\"\n",
    "\n",
    "reverse(\"Radar\") ➞ \"RADAr\"\n"
   ]
  },
  {
   "cell_type": "code",
   "execution_count": 32,
   "metadata": {},
   "outputs": [
    {
     "name": "stdout",
     "output_type": "stream",
     "text": [
      "eSrEvEr\n",
      "DLROw OLLEh\n",
      "RADAr\n"
     ]
    }
   ],
   "source": [
    "def reverse(my_string):\n",
    "    new_str = \"\"\n",
    "    l = len(my_string)-1   #setting an index\n",
    "    while l>=0:\n",
    "        new_str +=  my_string[l]\n",
    "        l -= 1\n",
    "    return new_str.swapcase()\n",
    "\n",
    "print(reverse(\"ReVeRsE\"))\n",
    "print(reverse(\"Hello World\"))\n",
    "print(reverse(\"Radar\"))"
   ]
  },
  {
   "cell_type": "code",
   "execution_count": null,
   "metadata": {},
   "outputs": [],
   "source": []
  },
  {
   "cell_type": "markdown",
   "metadata": {},
   "source": [
    "Question 3\n",
    "You can assign variables from lists like this:\n",
    "lst = [1, 2, 3, 4, 5, 6]\n",
    "first = lst[0]\n",
    "middle = lst[1:-1]\n",
    "last = lst[-1]\n",
    "\n",
    "print(first) ➞ outputs 1\n",
    "print(middle) ➞ outputs [2, 3, 4, 5]\n",
    "print(last) ➞ outputs 6\n",
    "With Python 3, you can assign variables from lists in a much more succinct way. Create variables first, middle and last from the given list using destructuring assignment (check the Resources tab for some examples), where:\n",
    "first  ➞ 1\n",
    "\n",
    "middle ➞ [2, 3, 4, 5]\n",
    "\n",
    "last ➞ 6\n",
    "Your task is to unpack the list writeyourcodehere into three variables, being first, middle, and last, with middle being everything in between the first and last element. Then print all three variables.\n"
   ]
  },
  {
   "cell_type": "code",
   "execution_count": 18,
   "metadata": {},
   "outputs": [
    {
     "name": "stdout",
     "output_type": "stream",
     "text": [
      "(1, [2, 3, 4, 5], 6)\n",
      "('hello', [2, 4, 6, 8], 'world')\n"
     ]
    }
   ],
   "source": [
    "def unpack(my_lst):\n",
    "    middle = []\n",
    "    index = 1\n",
    "    while index < (len(my_lst)-1):\n",
    "        first = my_lst[0]\n",
    "        middle.append(my_lst[index])\n",
    "        index += 1\n",
    "    else:\n",
    "        last = my_lst[index]\n",
    "    return first, middle, last\n",
    "\n",
    "\n",
    "print(unpack([1,2,3,4,5,6]))\n",
    "print(unpack(['hello',2,4,6,8,'world']))\n"
   ]
  },
  {
   "cell_type": "code",
   "execution_count": null,
   "metadata": {},
   "outputs": [],
   "source": []
  },
  {
   "cell_type": "markdown",
   "metadata": {},
   "source": [
    "Question 4\n",
    "Write a function that calculates the factorial of a number recursively.\n",
    "Examples\n",
    "factorial(5) ➞ 120\n",
    "\n",
    "factorial(3) ➞ 6\n",
    "\n",
    "factorial(1) ➞ 1\n",
    "\n",
    "factorial(0) ➞ 1\n"
   ]
  },
  {
   "cell_type": "code",
   "execution_count": 26,
   "metadata": {},
   "outputs": [
    {
     "name": "stdout",
     "output_type": "stream",
     "text": [
      "6\n",
      "1\n",
      "1\n",
      "720\n",
      "Factorial of a negative number does not exist\n"
     ]
    }
   ],
   "source": [
    "def factorial(num):\n",
    "    fact = 1\n",
    "    if num == 0:\n",
    "        return 1\n",
    "    elif num <0:\n",
    "        return 'Factorial of a negative number does not exist'\n",
    "    else:\n",
    "        while num>0:\n",
    "            fact = fact * num\n",
    "            num -= 1\n",
    "        return fact\n",
    "      \n",
    "    \n",
    "print(factorial(3))\n",
    "print(factorial(1))\n",
    "print(factorial(0))\n",
    "print(factorial(6))\n",
    "print(factorial(-1))"
   ]
  },
  {
   "cell_type": "code",
   "execution_count": null,
   "metadata": {},
   "outputs": [],
   "source": []
  },
  {
   "cell_type": "markdown",
   "metadata": {},
   "source": [
    "Question 5\n",
    "Write a function that moves all elements of one type to the end of the list.\n",
    "Examples\n",
    "move_to_end([1, 3, 2, 4, 4, 1], 1) ➞ [3, 2, 4, 4, 1, 1]\n",
    "Move all the 1s to the end of the array.\n",
    "\n",
    "move_to_end([7, 8, 9, 1, 2, 3, 4], 9) ➞ [7, 8, 1, 2, 3, 4, 9]\n",
    "\n",
    "move_to_end([\"a\", \"a\", \"a\", \"b\"], \"a\") ➞ [\"b\", \"a\", \"a\", \"a\"]\n",
    "\n"
   ]
  },
  {
   "cell_type": "code",
   "execution_count": 29,
   "metadata": {},
   "outputs": [
    {
     "name": "stdout",
     "output_type": "stream",
     "text": [
      "[3, 2, 4, 4, 1, 1]\n",
      "[7, 8, 1, 2, 3, 4, 9]\n",
      "['b', 'a', 'a', 'a']\n",
      "[7, 8, 1, 2, 3, 4, 9, 9]\n"
     ]
    }
   ],
   "source": [
    "def move_to_end(my_lst, element):\n",
    "    for i in my_lst:\n",
    "        if i == element:\n",
    "            my_lst.remove(i)\n",
    "            my_lst.append(i)\n",
    "        else:\n",
    "            continue\n",
    "    return my_lst\n",
    "\n",
    "print(move_to_end([1, 3, 2, 4, 4, 1], 1))\n",
    "print(move_to_end([7, 8, 9, 1, 2, 3, 4], 9))\n",
    "print(move_to_end([\"a\", \"a\", \"a\", \"b\"], \"a\"))\n",
    "print(move_to_end([7, 8, 9, 1, 2, 3,9, 4], 9))"
   ]
  },
  {
   "cell_type": "code",
   "execution_count": null,
   "metadata": {},
   "outputs": [],
   "source": [
    "#-------------------------------End------------------------------------------------"
   ]
  }
 ],
 "metadata": {
  "kernelspec": {
   "display_name": "Python 3",
   "language": "python",
   "name": "python3"
  },
  "language_info": {
   "codemirror_mode": {
    "name": "ipython",
    "version": 3
   },
   "file_extension": ".py",
   "mimetype": "text/x-python",
   "name": "python",
   "nbconvert_exporter": "python",
   "pygments_lexer": "ipython3",
   "version": "3.8.5"
  },
  "varInspector": {
   "cols": {
    "lenName": 16,
    "lenType": 16,
    "lenVar": 40
   },
   "kernels_config": {
    "python": {
     "delete_cmd_postfix": "",
     "delete_cmd_prefix": "del ",
     "library": "var_list.py",
     "varRefreshCmd": "print(var_dic_list())"
    },
    "r": {
     "delete_cmd_postfix": ") ",
     "delete_cmd_prefix": "rm(",
     "library": "var_list.r",
     "varRefreshCmd": "cat(var_dic_list()) "
    }
   },
   "types_to_exclude": [
    "module",
    "function",
    "builtin_function_or_method",
    "instance",
    "_Feature"
   ],
   "window_display": false
  }
 },
 "nbformat": 4,
 "nbformat_minor": 4
}
