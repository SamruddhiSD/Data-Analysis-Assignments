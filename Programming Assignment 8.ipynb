{
 "cells": [
  {
   "cell_type": "code",
   "execution_count": 24,
   "metadata": {},
   "outputs": [
    {
     "name": "stdout",
     "output_type": "stream",
     "text": [
      "The resultant sum of matrix-\n",
      "[2, 4, 3, 8]\n",
      "[8, 8, 15, 13]\n",
      "[15, 9, 10, 6]\n"
     ]
    }
   ],
   "source": [
    "#1.\tWrite a Python Program to Add Two Matrices?\n",
    "\n",
    "X = [[1,2,3,4],\n",
    "    [4 ,5,6,5],\n",
    "    [7 ,8,9,3]]\n",
    "\n",
    "Y = [[1,2,0,4],\n",
    "    [4 ,3,9,8],\n",
    "    [8 ,1,1,3]] \n",
    "\n",
    "Z = [[0,0,0,0],\n",
    "    [0,0,0,0],\n",
    "    [0,0,0,0]]\n",
    "\n",
    "for i in range(len(X)):\n",
    "    for j in range(len(X[i])):\n",
    "        Z[i][j] = X[i][j] + Y[i][j]\n",
    "\n",
    "print('The resultant sum of matrix-')\n",
    "for z in Z:\n",
    "    print(z, end = \"\\n\")\n"
   ]
  },
  {
   "cell_type": "code",
   "execution_count": 26,
   "metadata": {},
   "outputs": [
    {
     "name": "stdout",
     "output_type": "stream",
     "text": [
      "[33, 11, 21, 29]\n",
      "[72, 29, 51, 74]\n",
      "[111, 47, 81, 119]\n"
     ]
    }
   ],
   "source": [
    "#2.2.\tWrite a Python Program to Multiply Two Matrices?\n",
    "\n",
    "X = [[1,2,3,4],\n",
    "    [4 ,5,6,5],\n",
    "    [7 ,8,9,3]]\n",
    "\n",
    "Y = [[1,2,0,4],\n",
    "    [4 ,3,9,8],\n",
    "    [8 ,1,1,3]] \n",
    "\n",
    "Z = [[0,0,0,0],\n",
    "    [0,0,0,0],\n",
    "    [0,0,0,0]]\n",
    "\n",
    "# iterate through rows of X\n",
    "for i in range(len(X)):\n",
    "   # iterate through columns of Y\n",
    "   for j in range(len(Y[0])):\n",
    "       # iterate through rows of Y\n",
    "       for k in range(len(Y)):\n",
    "            Z[i][j] += X[i][k] * Y[k][j]\n",
    "\n",
    "for z in Z:\n",
    "    print(z)"
   ]
  },
  {
   "cell_type": "code",
   "execution_count": 27,
   "metadata": {},
   "outputs": [
    {
     "name": "stdout",
     "output_type": "stream",
     "text": [
      "[1, 4, 7]\n",
      "[2, 5, 8]\n",
      "[3, 6, 9]\n",
      "[4, 5, 3]\n"
     ]
    }
   ],
   "source": [
    "#3.\tWrite a Python Program to Transpose a Matrix?\n",
    "\n",
    "X = [[1,2,3,4],\n",
    "    [4 ,5,6,5],\n",
    "    [7 ,8,9,3]]\n",
    "\n",
    "Y = [[0,0,0],\n",
    "    [0,0,0],\n",
    "    [0,0,0],\n",
    "    [0,0,0]]\n",
    "\n",
    "for i in range(len(X)):\n",
    "    for j in range(len(X[i])):\n",
    "        Y[j][i] = X[i][j]\n",
    "\n",
    "for y in Y:\n",
    "    print(y)"
   ]
  },
  {
   "cell_type": "code",
   "execution_count": 33,
   "metadata": {},
   "outputs": [
    {
     "name": "stdout",
     "output_type": "stream",
     "text": [
      "['am', 'first', 'for', 'i', 'learning', 'programming', 'python', 'the', 'time', 'very']\n",
      "The sorted words are:\n",
      "am\n",
      "first\n",
      "for\n",
      "i\n",
      "learning\n",
      "programming\n",
      "python\n",
      "the\n",
      "time\n",
      "very\n"
     ]
    }
   ],
   "source": [
    "#4.\tWrite a Python Program to Sort Words in Alphabetic Order?\n",
    "\n",
    "my_str = \"I am learning python programming for the very first time\"\n",
    "\n",
    "# breakdown the string into a list of words\n",
    "words = [word.lower() for word in my_str.split()]\n",
    "\n",
    "\n",
    "# sort the list\n",
    "words.sort()\n",
    "print(words)\n",
    "\n",
    "# # display the sorted words\n",
    "\n",
    "print(\"The sorted words are:\")\n",
    "for word in words:\n",
    "    print(word)"
   ]
  },
  {
   "cell_type": "code",
   "execution_count": 39,
   "metadata": {},
   "outputs": [
    {
     "name": "stdout",
     "output_type": "stream",
     "text": [
      "HelloPythonlearner\n"
     ]
    }
   ],
   "source": [
    "#5.\tWrite a Python Program to Remove Punctuation From a String?\n",
    "def Punctuation(string):\n",
    "    punctuations = '''!()-[]{};:'\"\\,<>./?@#$%^&*_~'''  #defining punctuations\n",
    "    for x in string.lower():\n",
    "        if x in punctuations:\n",
    "            string = string.replace(x,\"\")    #replacing the punctuations with blank.\n",
    "    print(string)\n",
    "  \n",
    "  #Calling the function\n",
    "string = \"Hello???@@##$%Python%$^learner$%^\"\n",
    "Punctuation(string)"
   ]
  },
  {
   "cell_type": "code",
   "execution_count": null,
   "metadata": {},
   "outputs": [],
   "source": [
    "#---------End-------------"
   ]
  },
  {
   "cell_type": "code",
   "execution_count": null,
   "metadata": {},
   "outputs": [],
   "source": []
  }
 ],
 "metadata": {
  "kernelspec": {
   "display_name": "Python 3",
   "language": "python",
   "name": "python3"
  },
  "language_info": {
   "codemirror_mode": {
    "name": "ipython",
    "version": 3
   },
   "file_extension": ".py",
   "mimetype": "text/x-python",
   "name": "python",
   "nbconvert_exporter": "python",
   "pygments_lexer": "ipython3",
   "version": "3.8.5"
  },
  "varInspector": {
   "cols": {
    "lenName": 16,
    "lenType": 16,
    "lenVar": 40
   },
   "kernels_config": {
    "python": {
     "delete_cmd_postfix": "",
     "delete_cmd_prefix": "del ",
     "library": "var_list.py",
     "varRefreshCmd": "print(var_dic_list())"
    },
    "r": {
     "delete_cmd_postfix": ") ",
     "delete_cmd_prefix": "rm(",
     "library": "var_list.r",
     "varRefreshCmd": "cat(var_dic_list()) "
    }
   },
   "types_to_exclude": [
    "module",
    "function",
    "builtin_function_or_method",
    "instance",
    "_Feature"
   ],
   "window_display": false
  }
 },
 "nbformat": 4,
 "nbformat_minor": 4
}
