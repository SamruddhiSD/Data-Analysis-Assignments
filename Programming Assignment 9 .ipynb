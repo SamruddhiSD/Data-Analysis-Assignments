{
 "cells": [
  {
   "cell_type": "code",
   "execution_count": 18,
   "metadata": {},
   "outputs": [
    {
     "name": "stdout",
     "output_type": "stream",
     "text": [
      "Enter a number:89\n",
      "Number is 89 and sum of digit raised to its position is 89\n",
      "Number is a Disarium number\n"
     ]
    }
   ],
   "source": [
    "#1.\tWrite a Python program to check if the given number is a Disarium Number?\n",
    "\n",
    "num = int(input('Enter a number:'))\n",
    "num1 = num\n",
    "s= str(num)\n",
    "sum_num = 0\n",
    "for i in range(len(s)-1, -1, -1):\n",
    "    digit = num1%10\n",
    "    num1 = num1//10\n",
    "    if s[i] == str(digit):\n",
    "        sum_num += digit**(i+1)\n",
    "print('Number is {} and sum of digit raised to its position is {}'.format(num,sum_num))\n",
    "if num == sum_num:\n",
    "    print('Number is a Disarium number')\n",
    "else:\n",
    "    print('Not a Disarium number')\n",
    "    "
   ]
  },
  {
   "cell_type": "code",
   "execution_count": 19,
   "metadata": {},
   "outputs": [
    {
     "name": "stdout",
     "output_type": "stream",
     "text": [
      "The Disarium numbers between 1 to 100 are:\n",
      "[1, 2, 3, 4, 5, 6, 7, 8, 9, 89]\n"
     ]
    }
   ],
   "source": [
    "#2.\tWrite a Python program to print all disarium numbers between 1 to 100?\n",
    "\n",
    "disarium_num = []\n",
    "for num in range(1,101):\n",
    "    num1 = num\n",
    "    s= str(num)\n",
    "    sum_num = 0\n",
    "    for i in range(len(s)-1, -1, -1):\n",
    "        digit = num1%10\n",
    "        num1 = num1//10\n",
    "        if s[i] == str(digit):\n",
    "            sum_num += digit**(i+1)\n",
    "    if num == sum_num:\n",
    "        disarium_num.append(num)\n",
    "print('The Disarium numbers between 1 to 100 are:')\n",
    "print(disarium_num)"
   ]
  },
  {
   "cell_type": "code",
   "execution_count": 35,
   "metadata": {},
   "outputs": [
    {
     "name": "stdout",
     "output_type": "stream",
     "text": [
      "101 is not a happy number\n"
     ]
    }
   ],
   "source": [
    "#3.Write a Python program to check if the given number is Happy Number?\n",
    "\n",
    "def isHappyNumber(num):\n",
    "    sum_num = 0  \n",
    "    while(num > 0):\n",
    "        digit = num%10\n",
    "        sum_num += digit**2\n",
    "        num = num//10\n",
    "    return sum_num\n",
    "\n",
    "num = 101\n",
    "num1 = num\n",
    "while(num1 != 1 and num1 != 4):\n",
    "    num1= isHappyNumber(num1)\n",
    "    \n",
    "#Happy number always ends with 1  \n",
    "if(num1 == 1):\n",
    "    print(str(num) + \" is a happy number\")\n",
    "    \n",
    "#Unhappy number ends in a cycle of repeating numbers which contain 4  \n",
    "elif(num1 == 4):\n",
    "    print(str(num) + \" is not a happy number\")\n"
   ]
  },
  {
   "cell_type": "code",
   "execution_count": 41,
   "metadata": {},
   "outputs": [
    {
     "name": "stdout",
     "output_type": "stream",
     "text": [
      "[1, 7, 10, 13, 19, 23, 28, 31, 32, 44, 49, 68, 70, 79, 82, 86, 91, 94, 97, 100]\n"
     ]
    }
   ],
   "source": [
    "#4.\tWrite a Python program to print all happy numbers between 1 and 100?\n",
    "\n",
    "happy_num = []\n",
    "def isHappyNumber(num):\n",
    "    sum_num = 0\n",
    "    #Calculates the sum of squares of digits  \n",
    "    while(num > 0):\n",
    "        digit = num%10\n",
    "        sum_num += digit**2\n",
    "        num = num//10\n",
    "    return sum_num\n",
    "\n",
    "for i in range(1,101):\n",
    "    num1 = i\n",
    "    while(num1 != 1 and num1 != 4):\n",
    "        num1= isHappyNumber(num1)\n",
    "    if(num1 == 1):\n",
    "        happy_num.append(i)\n",
    "print(happy_num)\n",
    "    "
   ]
  },
  {
   "cell_type": "code",
   "execution_count": 4,
   "metadata": {},
   "outputs": [
    {
     "name": "stdout",
     "output_type": "stream",
     "text": [
      "Is a Harshad number\n",
      "Is a Harshad number\n",
      "Is a Harshad number\n",
      "Not a Harshad number\n"
     ]
    }
   ],
   "source": [
    "#5.\tWrite a Python program to determine whether the given number is a Harshad Number?\n",
    "\n",
    "def is_harshad(num):\n",
    "    sum = 0\n",
    "    s = str(num)\n",
    "    for i in s:\n",
    "        sum += int(i)\n",
    "    if num%sum == 0:\n",
    "        return 'Is a Harshad number'\n",
    "    else:\n",
    "        return 'Not a Harshad number'\n",
    "        \n",
    "print(is_harshad(18))\n",
    "print(is_harshad(42))\n",
    "print(is_harshad(500))\n",
    "print(is_harshad(680))"
   ]
  },
  {
   "cell_type": "code",
   "execution_count": 15,
   "metadata": {},
   "outputs": [
    {
     "name": "stdout",
     "output_type": "stream",
     "text": [
      "[2, 6, 12, 20, 30, 42, 56, 72, 90]\n"
     ]
    }
   ],
   "source": [
    "#6.\tWrite a Python program to print all pronic numbers between 1 and 100?\n",
    "\n",
    "pronic = []\n",
    "def is_pronic(num):\n",
    "    flag = False\n",
    "   \n",
    "    for i in range(1, num+1):\n",
    "        if i*(i+1) == num:\n",
    "            flag = True\n",
    "            #pronic.append(num)\n",
    "            break\n",
    "    return flag\n",
    "for j in range(1,101):\n",
    "    if (is_pronic(j)):  \n",
    "        pronic.append(j) \n",
    "print(pronic)\n",
    "   \n"
   ]
  },
  {
   "cell_type": "code",
   "execution_count": null,
   "metadata": {},
   "outputs": [],
   "source": [
    "#-----------------------------End----------------------------------------"
   ]
  },
  {
   "cell_type": "code",
   "execution_count": null,
   "metadata": {},
   "outputs": [],
   "source": []
  },
  {
   "cell_type": "code",
   "execution_count": null,
   "metadata": {},
   "outputs": [],
   "source": []
  }
 ],
 "metadata": {
  "kernelspec": {
   "display_name": "Python 3",
   "language": "python",
   "name": "python3"
  },
  "language_info": {
   "codemirror_mode": {
    "name": "ipython",
    "version": 3
   },
   "file_extension": ".py",
   "mimetype": "text/x-python",
   "name": "python",
   "nbconvert_exporter": "python",
   "pygments_lexer": "ipython3",
   "version": "3.8.5"
  },
  "varInspector": {
   "cols": {
    "lenName": 16,
    "lenType": 16,
    "lenVar": 40
   },
   "kernels_config": {
    "python": {
     "delete_cmd_postfix": "",
     "delete_cmd_prefix": "del ",
     "library": "var_list.py",
     "varRefreshCmd": "print(var_dic_list())"
    },
    "r": {
     "delete_cmd_postfix": ") ",
     "delete_cmd_prefix": "rm(",
     "library": "var_list.r",
     "varRefreshCmd": "cat(var_dic_list()) "
    }
   },
   "types_to_exclude": [
    "module",
    "function",
    "builtin_function_or_method",
    "instance",
    "_Feature"
   ],
   "window_display": false
  }
 },
 "nbformat": 4,
 "nbformat_minor": 4
}
