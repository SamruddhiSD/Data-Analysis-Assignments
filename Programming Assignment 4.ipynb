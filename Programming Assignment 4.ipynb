{
 "cells": [
  {
   "cell_type": "code",
   "execution_count": 10,
   "metadata": {},
   "outputs": [
    {
     "name": "stdout",
     "output_type": "stream",
     "text": [
      "Enter any number:6\n",
      "The factorial of the number is 720\n"
     ]
    }
   ],
   "source": [
    "#1.\tWrite a Python Program to Find the Factorial of a Number?\n",
    "\n",
    "num = int(input('Enter any number:'))\n",
    "if num == 0:\n",
    "    fact = 1\n",
    "elif num>0:\n",
    "    fact = 1\n",
    "    while num>0:\n",
    "        fact = num*fact\n",
    "        num -= 1\n",
    "print('The factorial of the number is', fact)"
   ]
  },
  {
   "cell_type": "code",
   "execution_count": 26,
   "metadata": {},
   "outputs": [
    {
     "name": "stdout",
     "output_type": "stream",
     "text": [
      "Enter any number:5\n",
      "5 x 1 = 5\n",
      "5 x 2 = 10\n",
      "5 x 3 = 15\n",
      "5 x 4 = 20\n",
      "5 x 5 = 25\n",
      "5 x 6 = 30\n",
      "5 x 7 = 35\n",
      "5 x 8 = 40\n",
      "5 x 9 = 45\n",
      "5 x 10 = 50\n"
     ]
    }
   ],
   "source": [
    "#2.\tWrite a Python Program to Display the multiplication Table?\n",
    "\n",
    "num = int(input('Enter any number:'))\n",
    "for i in range(1, 11):\n",
    "    print(num ,'x', i ,'=', num*i)"
   ]
  },
  {
   "cell_type": "code",
   "execution_count": 32,
   "metadata": {},
   "outputs": [
    {
     "name": "stdout",
     "output_type": "stream",
     "text": [
      "Please enter the number of terms:7\n",
      "The fibonnaci sequence is as follows:\n",
      "0\n",
      "1\n",
      "1\n",
      "2\n",
      "3\n",
      "5\n",
      "8\n"
     ]
    }
   ],
   "source": [
    "#3.\tWrite a Python Program to Print the Fibonacci sequence?\n",
    "\n",
    "n_terms = int(input('Please enter the number of terms:'))\n",
    "count = 1\n",
    "num1 = 0\n",
    "num2 = 1\n",
    "print('The fibonnaci sequence is as follows:')\n",
    "while count<=n_terms:\n",
    "    print(num1)\n",
    "    num3 = num1+num2\n",
    "    num1 = num2\n",
    "    num2 = num3\n",
    "    count += 1\n"
   ]
  },
  {
   "cell_type": "code",
   "execution_count": 47,
   "metadata": {},
   "outputs": [
    {
     "name": "stdout",
     "output_type": "stream",
     "text": [
      "Enter any number:153\n",
      "Original number is 153 and sum of cube of digits is 153\n",
      "Entered number is an Armstrong number\n"
     ]
    }
   ],
   "source": [
    "#4.\tWrite a Python Program to Check Armstrong Number?   \n",
    "\n",
    "num = int(input('Enter any number:'))\n",
    "cube_sum = 0\n",
    "num1 = num\n",
    "while num1>0:\n",
    "    digit = num1%10\n",
    "    num1 = num1//10\n",
    "    cube_sum += (digit**3)\n",
    "print('Original number is {} and sum of cube of digits is {}'.format(num,cube_sum))\n",
    "if cube_sum == num:\n",
    "    print('Entered number is an Armstrong number')\n",
    "else:\n",
    "    print('Not an Armstrong number')"
   ]
  },
  {
   "cell_type": "code",
   "execution_count": 51,
   "metadata": {},
   "outputs": [
    {
     "name": "stdout",
     "output_type": "stream",
     "text": [
      "Armstrong numbers in given range is:\n",
      "[0, 1, 153, 370, 371, 407]\n"
     ]
    }
   ],
   "source": [
    "#5.\tWrite a Python Program to Find Armstrong Number in an Interval?\n",
    "\n",
    "armstrong = []\n",
    "for num in range(0,1000):\n",
    "    cube_sum = 0\n",
    "    num1 = num\n",
    "    while num1>0:\n",
    "        digit = num1%10\n",
    "        num1 = num1//10\n",
    "        cube_sum += (digit**3)\n",
    "    if cube_sum == num:\n",
    "        armstrong.append(num)\n",
    "print('Armstrong numbers in given range is:')\n",
    "print(armstrong)\n",
    "    "
   ]
  },
  {
   "cell_type": "code",
   "execution_count": 55,
   "metadata": {
    "scrolled": true
   },
   "outputs": [
    {
     "name": "stdout",
     "output_type": "stream",
     "text": [
      "Enter the number till which the sum is to be calculated:20\n",
      "The sum of the chosen natural numbers comes out to be 210\n"
     ]
    }
   ],
   "source": [
    "#6.\tWrite a Python Program to Find the Sum of Natural Numbers?\n",
    "num = int(input('Enter the number till which the sum is to be calculated:'))\n",
    "num1 = 1\n",
    "sum_num = ((num1+num)*num)/2\n",
    "print('The sum of the chosen natural numbers comes out to be', int(sum_num))"
   ]
  },
  {
   "cell_type": "code",
   "execution_count": null,
   "metadata": {},
   "outputs": [],
   "source": [
    "#--------End----------"
   ]
  }
 ],
 "metadata": {
  "kernelspec": {
   "display_name": "Python 3",
   "language": "python",
   "name": "python3"
  },
  "language_info": {
   "codemirror_mode": {
    "name": "ipython",
    "version": 3
   },
   "file_extension": ".py",
   "mimetype": "text/x-python",
   "name": "python",
   "nbconvert_exporter": "python",
   "pygments_lexer": "ipython3",
   "version": "3.8.5"
  },
  "varInspector": {
   "cols": {
    "lenName": 16,
    "lenType": 16,
    "lenVar": 40
   },
   "kernels_config": {
    "python": {
     "delete_cmd_postfix": "",
     "delete_cmd_prefix": "del ",
     "library": "var_list.py",
     "varRefreshCmd": "print(var_dic_list())"
    },
    "r": {
     "delete_cmd_postfix": ") ",
     "delete_cmd_prefix": "rm(",
     "library": "var_list.r",
     "varRefreshCmd": "cat(var_dic_list()) "
    }
   },
   "types_to_exclude": [
    "module",
    "function",
    "builtin_function_or_method",
    "instance",
    "_Feature"
   ],
   "window_display": false
  }
 },
 "nbformat": 4,
 "nbformat_minor": 4
}
