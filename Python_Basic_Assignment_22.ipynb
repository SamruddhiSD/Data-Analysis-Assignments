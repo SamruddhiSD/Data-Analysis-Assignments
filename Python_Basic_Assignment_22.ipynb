{
 "cells": [
  {
   "cell_type": "code",
   "execution_count": 1,
   "metadata": {},
   "outputs": [
    {
     "name": "stdout",
     "output_type": "stream",
     "text": [
      "iNeuron\n"
     ]
    }
   ],
   "source": [
    "#1. What is the result of the code, and explain?\n",
    "\n",
    "X = 'iNeuron'\n",
    "def func():\n",
    "        print(X)\n",
    "\n",
    "func()\n",
    "\n",
    "\n",
    "#Here X is a global variable.Global variable is accessible both inside and outside the function.\n",
    "#Calling the function prints the value of the global variable."
   ]
  },
  {
   "cell_type": "code",
   "execution_count": 2,
   "metadata": {},
   "outputs": [
    {
     "name": "stdout",
     "output_type": "stream",
     "text": [
      "iNeuron\n"
     ]
    }
   ],
   "source": [
    "#2. What is the result of the code, and explain?\n",
    "\n",
    "X = 'iNeuron'\n",
    "def func():\n",
    "        X = 'NI!'\n",
    "\n",
    "func()\n",
    "print(X)\n",
    "\n",
    "\n",
    "#X = 'ineuron' is a global variable whereas X = 'Ni' is a local variable which can be accessed only inside the function.\n",
    "#Here since X is called outside the function where global variable is easily accessible.Hence global variable gets printed."
   ]
  },
  {
   "cell_type": "code",
   "execution_count": 3,
   "metadata": {},
   "outputs": [
    {
     "name": "stdout",
     "output_type": "stream",
     "text": [
      "NI\n",
      "iNeuron\n"
     ]
    }
   ],
   "source": [
    "#3. What does this code print, and why?\n",
    "X = 'iNeuron'\n",
    "def func():\n",
    "        X = 'NI'\n",
    "        print(X)\n",
    "func()\n",
    "print(X)\n",
    "\n",
    "\n",
    "# X='NI' is a local variable accessible only inside the function.Hence it gets printed when called inside a function whereas\n",
    "# X='iNeuron' is accessible everywhere.Hence it gets printed even when called outside the function."
   ]
  },
  {
   "cell_type": "code",
   "execution_count": 4,
   "metadata": {},
   "outputs": [
    {
     "name": "stdout",
     "output_type": "stream",
     "text": [
      "NI\n"
     ]
    }
   ],
   "source": [
    "#4. What output does this code produce? Why?\n",
    "\n",
    "X = 'iNeuron'\n",
    "def func():\n",
    "        global X\n",
    "        X = 'NI'\n",
    "\n",
    "func()\n",
    "print(X)\n",
    "\n",
    "# To create a global variable inside a function, we use the 'global' keyword. Here X is a global variable and can be accessed\n",
    "# anywhere."
   ]
  },
  {
   "cell_type": "code",
   "execution_count": 5,
   "metadata": {},
   "outputs": [
    {
     "name": "stdout",
     "output_type": "stream",
     "text": [
      "NI\n"
     ]
    },
    {
     "data": {
      "text/plain": [
       "'iNeuron'"
      ]
     },
     "execution_count": 5,
     "metadata": {},
     "output_type": "execute_result"
    }
   ],
   "source": [
    "#5. What about this code—what’s the output, and why?\n",
    "\n",
    "X = 'iNeuron'\n",
    "def func():\n",
    "        X = 'NI'\n",
    "        def nested():\n",
    "            print(X)\n",
    "        nested()\n",
    "\n",
    "func()\n",
    "X\n",
    "\n",
    "\n",
    "#Local variable X = 'NI' accessible inside function body. Global variable X = 'iNeuron' accessible anywhere."
   ]
  },
  {
   "cell_type": "code",
   "execution_count": 5,
   "metadata": {},
   "outputs": [
    {
     "name": "stdout",
     "output_type": "stream",
     "text": [
      "Spam\n"
     ]
    }
   ],
   "source": [
    "#6. How about this code: what is its output in Python 3, and explain?\n",
    "\n",
    "def func():\n",
    "        X = 'NI'\n",
    "        def nested():\n",
    "            nonlocal X\n",
    "            X = 'Spam'\n",
    "            \n",
    "        nested()\n",
    "        print(X)\n",
    "func()\n",
    "\n",
    "\n",
    "# The nonlocal keyword is used to work with variables inside nested functions, where the variable should not belong to the inner\n",
    "# function. X being a nonlocal variable was accessible outside the nested function as well."
   ]
  },
  {
   "cell_type": "code",
   "execution_count": null,
   "metadata": {},
   "outputs": [],
   "source": [
    "#7. Name three ways to retain state information in a Python function.\n",
    "\n",
    "#Instance attributes, global variables, nonlocal variables, and function attributes can all be used for retaining state."
   ]
  },
  {
   "cell_type": "code",
   "execution_count": null,
   "metadata": {},
   "outputs": [],
   "source": [
    "#-----------------------------------End-------------------------------------------------"
   ]
  }
 ],
 "metadata": {
  "kernelspec": {
   "display_name": "Python 3",
   "language": "python",
   "name": "python3"
  },
  "language_info": {
   "codemirror_mode": {
    "name": "ipython",
    "version": 3
   },
   "file_extension": ".py",
   "mimetype": "text/x-python",
   "name": "python",
   "nbconvert_exporter": "python",
   "pygments_lexer": "ipython3",
   "version": "3.8.5"
  },
  "varInspector": {
   "cols": {
    "lenName": 16,
    "lenType": 16,
    "lenVar": 40
   },
   "kernels_config": {
    "python": {
     "delete_cmd_postfix": "",
     "delete_cmd_prefix": "del ",
     "library": "var_list.py",
     "varRefreshCmd": "print(var_dic_list())"
    },
    "r": {
     "delete_cmd_postfix": ") ",
     "delete_cmd_prefix": "rm(",
     "library": "var_list.r",
     "varRefreshCmd": "cat(var_dic_list()) "
    }
   },
   "types_to_exclude": [
    "module",
    "function",
    "builtin_function_or_method",
    "instance",
    "_Feature"
   ],
   "window_display": false
  }
 },
 "nbformat": 4,
 "nbformat_minor": 4
}
