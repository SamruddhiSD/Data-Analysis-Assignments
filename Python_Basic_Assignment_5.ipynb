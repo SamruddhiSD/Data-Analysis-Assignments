{
 "cells": [
  {
   "cell_type": "code",
   "execution_count": null,
   "metadata": {},
   "outputs": [],
   "source": [
    "#1. What does an empty dictionary's code look like?\n",
    "\"\"\"\n",
    "1.To create an empty dictionary, the dictionary should be set to {}.We create a dictionary called \n",
    "items which is set equal to {}. So this dictionary named items is empty.\n",
    "\n",
    "items = {}\n",
    "\n",
    "2.Another way of creating an empty dictionary is by setting the dictionary equal to dict().\n",
    "So, this dictionary named items is an empty dictionary.\n",
    "\n",
    "items = dict()\n",
    "\n",
    "\"\"\""
   ]
  },
  {
   "cell_type": "code",
   "execution_count": 3,
   "metadata": {},
   "outputs": [
    {
     "name": "stdout",
     "output_type": "stream",
     "text": [
      "<class 'dict'>\n",
      "dict_values([4])\n"
     ]
    }
   ],
   "source": [
    "#2. What is the value of a dictionary value with the key 'foo' and the value 42?\n",
    "\n",
    "d = {'foo':4}\n",
    "print(type(d))\n",
    "print(d.values())\n",
    "#Here dictionary named d has key = foo and value as 42."
   ]
  },
  {
   "cell_type": "code",
   "execution_count": 27,
   "metadata": {},
   "outputs": [
    {
     "name": "stdout",
     "output_type": "stream",
     "text": [
      "[1, 2, 3, 4, 5] <class 'list'>\n",
      "{1: 'a', 2: 'b', 3: 'c'} <class 'dict'>\n"
     ]
    }
   ],
   "source": [
    "#3. What is the main difference between a dictionary and a list?\n",
    "'''\n",
    "1.Lists are ordered sets of objects, whereas dictionaries are unordered sets.\n",
    "2.Items in a list can be accessed through slicing and indexing .Values of dictionary can be accessed\n",
    "through keys.\n",
    "3.List is a sequence while Dictionaries don't support the sequence operation of the sequence data \n",
    "types like strings, tuples and lists.\n",
    "4.The main difference is that items in dictionaries are accessed via keys and not via their position.\n",
    "\n",
    "'''\n",
    "lst = [1,2,3,4,5]\n",
    "dict_d = {1:'a',\n",
    "         2:'b',\n",
    "         3:'c'}\n",
    "print(lst, type(lst))\n",
    "print(dict_d, type(dict_d))"
   ]
  },
  {
   "cell_type": "code",
   "execution_count": 18,
   "metadata": {},
   "outputs": [
    {
     "ename": "KeyError",
     "evalue": "'foo'",
     "output_type": "error",
     "traceback": [
      "\u001b[1;31m---------------------------------------------------------------------------\u001b[0m",
      "\u001b[1;31mKeyError\u001b[0m                                  Traceback (most recent call last)",
      "\u001b[1;32m<ipython-input-18-69f06f2d6caa>\u001b[0m in \u001b[0;36m<module>\u001b[1;34m\u001b[0m\n\u001b[0;32m      5\u001b[0m \u001b[1;33m\u001b[0m\u001b[0m\n\u001b[0;32m      6\u001b[0m \u001b[0mspam\u001b[0m \u001b[1;33m=\u001b[0m \u001b[1;33m{\u001b[0m\u001b[1;34m'bar'\u001b[0m\u001b[1;33m:\u001b[0m\u001b[1;36m100\u001b[0m\u001b[1;33m}\u001b[0m\u001b[1;33m\u001b[0m\u001b[1;33m\u001b[0m\u001b[0m\n\u001b[1;32m----> 7\u001b[1;33m \u001b[0mprint\u001b[0m\u001b[1;33m(\u001b[0m\u001b[0mspam\u001b[0m\u001b[1;33m[\u001b[0m\u001b[1;34m'foo'\u001b[0m\u001b[1;33m]\u001b[0m\u001b[1;33m)\u001b[0m\u001b[1;33m\u001b[0m\u001b[1;33m\u001b[0m\u001b[0m\n\u001b[0m",
      "\u001b[1;31mKeyError\u001b[0m: 'foo'"
     ]
    }
   ],
   "source": [
    "#4. What happens if you try to access spam['foo'] if spam is {'bar': 100}?\n",
    "\n",
    "# spam={'foo':{'bar':100}}   #we get valid output in this case.\n",
    "# print(spam['foo'])\n",
    "\n",
    "spam = {'bar':100}\n",
    "print(spam['foo'])    #we get key error here since 'foo' is not defined as keys in dictionary."
   ]
  },
  {
   "cell_type": "code",
   "execution_count": 19,
   "metadata": {},
   "outputs": [
    {
     "name": "stdout",
     "output_type": "stream",
     "text": [
      "True\n",
      "True\n"
     ]
    }
   ],
   "source": [
    "#5.If a dictionary is stored in spam, what is the difference between the expressions 'cat' in spam\n",
    "#and 'cat' in spam.keys()?\n",
    "\n",
    "spam = {'dog':1,\n",
    "       'cat':3,\n",
    "        'birds':2,\n",
    "        'fish':5\n",
    "       }\n",
    "print('cat' in spam)\n",
    "print('cat' in spam.keys())"
   ]
  },
  {
   "cell_type": "code",
   "execution_count": 32,
   "metadata": {},
   "outputs": [
    {
     "name": "stdout",
     "output_type": "stream",
     "text": [
      "Original keys -  dict_keys(['brand', 'model', 'year'])\n",
      "New keys -  dict_keys(['brand', 'model', 'year', 'color'])\n"
     ]
    }
   ],
   "source": [
    "#6.What is the function keys()?\n",
    "\"\"\"\n",
    "1.The keys() method returns a view object. The view object contains the keys of the dictionary, as a \n",
    "  list.\n",
    "2.The view object will reflect any changes done to the dictionary.\n",
    "\n",
    "3.Syntax- dictionary.keys()\n",
    "\"\"\"\n",
    "\n",
    "car = {\n",
    "  \"brand\": \"Ford\",\n",
    "  \"model\": \"Mustang\",\n",
    "  \"year\": 1964\n",
    "       }\n",
    "\n",
    "x = car.keys()\n",
    "print('Original keys - ', x)\n",
    "\n",
    "car[\"color\"] = \"white\"\n",
    "print('New keys - ', x)\n"
   ]
  },
  {
   "cell_type": "code",
   "execution_count": 26,
   "metadata": {},
   "outputs": [
    {
     "name": "stdout",
     "output_type": "stream",
     "text": [
      "True\n",
      "False\n"
     ]
    }
   ],
   "source": [
    "#7. If a dictionary is stored in spam, what is the difference between the expressions 'cat' in spam\n",
    "#and 'cat' in spam.values()?\n",
    "\n",
    "spam = {'dog':1,\n",
    "       'cat':3,\n",
    "        'birds':2,\n",
    "        'fish':5\n",
    "       }\n",
    "print('cat' in spam)\n",
    "print('cat' in spam.values())"
   ]
  },
  {
   "cell_type": "code",
   "execution_count": 37,
   "metadata": {},
   "outputs": [
    {
     "name": "stdout",
     "output_type": "stream",
     "text": [
      "{'color': 'black'}\n"
     ]
    }
   ],
   "source": [
    "#7. What is a shortcut for the following code?\n",
    "\n",
    "# if 'color' not in spam:\n",
    "#     spam['color'] = 'black'\n",
    "\n",
    "spam = {}\n",
    "if spam.keys() != 'color':\n",
    "    spam['color'] = 'black'\n",
    "print(spam)\n",
    "\n"
   ]
  },
  {
   "cell_type": "code",
   "execution_count": 17,
   "metadata": {},
   "outputs": [
    {
     "name": "stdout",
     "output_type": "stream",
     "text": [
      "<class 'dict'>\n",
      "110\n",
      "70\n",
      "60\n",
      "80\n",
      "100\n",
      "80\n"
     ]
    }
   ],
   "source": [
    "#8. How do you \"pretty print\" dictionary values using which module and function?\n",
    "\n",
    "from pprint import pprint       #importing pprint function from pprint module.\n",
    "\n",
    "cafe = {\n",
    "    'coffee':110,\n",
    "    'ice-tea':70,\n",
    "    'scones':60,\n",
    "    'macarons':80,\n",
    "    'waffle':100,\n",
    "    'donut':80    \n",
    "}\n",
    "pprint(type(cafe))\n",
    "\n",
    "for item in cafe.values():\n",
    "    pprint(item)              #use pprint() function rather than the print function!\n",
    "    \n",
    "# The pprint module provides a capability to “pretty-print” arbitrary Python data structures in a\n",
    "# well-formatted and more readable way!\n"
   ]
  },
  {
   "cell_type": "code",
   "execution_count": null,
   "metadata": {},
   "outputs": [],
   "source": [
    "#--------------------------------------End-----------------------------------------------------------"
   ]
  },
  {
   "cell_type": "code",
   "execution_count": null,
   "metadata": {},
   "outputs": [],
   "source": []
  }
 ],
 "metadata": {
  "kernelspec": {
   "display_name": "Python 3",
   "language": "python",
   "name": "python3"
  },
  "language_info": {
   "codemirror_mode": {
    "name": "ipython",
    "version": 3
   },
   "file_extension": ".py",
   "mimetype": "text/x-python",
   "name": "python",
   "nbconvert_exporter": "python",
   "pygments_lexer": "ipython3",
   "version": "3.8.5"
  },
  "varInspector": {
   "cols": {
    "lenName": 16,
    "lenType": 16,
    "lenVar": 40
   },
   "kernels_config": {
    "python": {
     "delete_cmd_postfix": "",
     "delete_cmd_prefix": "del ",
     "library": "var_list.py",
     "varRefreshCmd": "print(var_dic_list())"
    },
    "r": {
     "delete_cmd_postfix": ") ",
     "delete_cmd_prefix": "rm(",
     "library": "var_list.r",
     "varRefreshCmd": "cat(var_dic_list()) "
    }
   },
   "types_to_exclude": [
    "module",
    "function",
    "builtin_function_or_method",
    "instance",
    "_Feature"
   ],
   "window_display": false
  }
 },
 "nbformat": 4,
 "nbformat_minor": 4
}
