{
 "cells": [
  {
   "cell_type": "code",
   "execution_count": null,
   "metadata": {},
   "outputs": [],
   "source": [
    "# Q1.What are the differences between operators and values in the following?\n",
    "# *\n",
    "# 'hello'\n",
    "# -87.8\n",
    "# -\n",
    "# /\n",
    "# +\n",
    "# 6\n"
   ]
  },
  {
   "cell_type": "markdown",
   "metadata": {},
   "source": [
    "1.Value is something which is assigned to a variable. It can be in multiple formats such as integer,\n",
    "floating value, complex value, boolean value, string.\n",
    "\n",
    "2.Operators are used to perform various desired operations on the values such as addition, multiplication,substraction, modulus, division between two or more values.\n",
    "\n",
    "3.In the above case, *,-,/,+ are operators while 'hello', 87.8,6 are values."
   ]
  },
  {
   "cell_type": "code",
   "execution_count": null,
   "metadata": {},
   "outputs": [],
   "source": [
    "#Q2.What is the difference between string and variable? spam 'spam'"
   ]
  },
  {
   "cell_type": "markdown",
   "metadata": {},
   "source": [
    "1.Variables are containers for storing data values.It is a reserved memory location to store values.\n",
    "\n",
    "2.String is a datatype which can be stored inside a variable.It is defined in single/double quotes.\n",
    "\n",
    "3.Here spam is a variable while 'spam' is a string datatype."
   ]
  },
  {
   "cell_type": "code",
   "execution_count": null,
   "metadata": {},
   "outputs": [],
   "source": [
    "#Q3.Describe three different data forms."
   ]
  },
  {
   "cell_type": "markdown",
   "metadata": {},
   "source": [
    "\n",
    "There are various datatypes/data forms in python such as  Integers,Float,Boolean, Complex, String.\n",
    "\n",
    "Integers- Stores any integer value which does not have a decimal point (Positive/negative).\n",
    "e.g- A =10\n",
    "\n",
    "Float- Stores any number with decimal point. \n",
    "e.g - PI = 3.147\n",
    "\n",
    "Boolean - Stores either True(1) or False(0) values.\n",
    "e.g- a= True\n",
    "\n",
    "String- Stores data in character forms i.e all the non-numeric data.\n",
    "e.g- name = 'sharad'\n"
   ]
  },
  {
   "cell_type": "code",
   "execution_count": null,
   "metadata": {},
   "outputs": [],
   "source": [
    "#Q4.What makes up an expression? What are the functions of all expressions?"
   ]
  },
  {
   "cell_type": "markdown",
   "metadata": {},
   "source": [
    "\n",
    "Expression is a combination of variables, operations and values that yields a result value.\n",
    "\n",
    "e.g >>5+5;\n",
    "    >>a+b-2;\n",
    "    >>'you will be'+ str(int(age)+1) 'years old next year'.\n"
   ]
  },
  {
   "cell_type": "code",
   "execution_count": null,
   "metadata": {},
   "outputs": [],
   "source": [
    "#Q5. In this chapter, assignment statements such as spam = 10 were added.\n",
    "#What's the difference between a declaration and an expression?"
   ]
  },
  {
   "cell_type": "markdown",
   "metadata": {},
   "source": [
    "Declaration of a variable means stating its data type along with giving it name for memory allocation.\n",
    "In python, we dont separately declare the type of our variable.\n",
    "A variable is created the moment you first assign a value to it.\n",
    "Expression is a combination of variables, operations and values thatgives a single value as an output.\n",
    "We can say a variable named spam has been declared and assigned the value of 10.Here spam=10 is \n",
    "a declaration while just 10 can be called as an expression."
   ]
  },
  {
   "cell_type": "code",
   "execution_count": 1,
   "metadata": {},
   "outputs": [
    {
     "data": {
      "text/plain": [
       "23"
      ]
     },
     "execution_count": 1,
     "metadata": {},
     "output_type": "execute_result"
    }
   ],
   "source": [
    "# 6. After running the following code, what does the variable bacon contain?\n",
    "bacon = 22\n",
    "bacon + 1 "
   ]
  },
  {
   "cell_type": "code",
   "execution_count": 2,
   "metadata": {},
   "outputs": [
    {
     "name": "stdout",
     "output_type": "stream",
     "text": [
      "spamspamspam\n",
      "spamspamspam\n"
     ]
    }
   ],
   "source": [
    "#7. What should the values of the following two terms be?\n",
    "\n",
    "print('spam' + 'spamspam')\n",
    "print('spam' * 3)\n"
   ]
  },
  {
   "cell_type": "code",
   "execution_count": 4,
   "metadata": {},
   "outputs": [
    {
     "name": "stdout",
     "output_type": "stream",
     "text": [
      "True\n",
      "True\n"
     ]
    }
   ],
   "source": [
    "#8. Why is it that eggs is a true variable name but 100 is not?\n",
    "print(bool('eggs'))\n",
    "print(bool(100))"
   ]
  },
  {
   "cell_type": "code",
   "execution_count": 5,
   "metadata": {},
   "outputs": [
    {
     "name": "stdout",
     "output_type": "stream",
     "text": [
      "10\n",
      "10.0\n",
      "10\n"
     ]
    }
   ],
   "source": [
    "# 9. Which of the following three functions may be used to convert a value to an integer, a floating-\n",
    "# point number, or a string?\n",
    "\n",
    "a = 10\n",
    "\n",
    "#int to int\n",
    "print(int(a))\n",
    "\n",
    "#int to float\n",
    "print(float(a))\n",
    "\n",
    "#int to string\n",
    "print(str(a))"
   ]
  },
  {
   "cell_type": "code",
   "execution_count": 9,
   "metadata": {},
   "outputs": [
    {
     "name": "stdout",
     "output_type": "stream",
     "text": [
      "I have eaten 99 burritos.\n"
     ]
    }
   ],
   "source": [
    "# 10. What is the error caused by this expression? What would you do about it?\n",
    "# 'I have eaten ' + 99 + ' burritos.'\n",
    "\n",
    "#print('I have eaten ' + 99 + ' burritos.').\n",
    "#This gives us a TypeError because string cannot be concatenated to an integer since here 99 is \n",
    "#an integer. We convert it to a string value and then concatenation is possible.\n",
    "\n",
    "print('I have eaten ' + str(99) + ' burritos.')\n"
   ]
  },
  {
   "cell_type": "code",
   "execution_count": null,
   "metadata": {},
   "outputs": [],
   "source": [
    "#-------------------------------End--------------------------------------------------------------------"
   ]
  }
 ],
 "metadata": {
  "kernelspec": {
   "display_name": "Python 3",
   "language": "python",
   "name": "python3"
  },
  "language_info": {
   "codemirror_mode": {
    "name": "ipython",
    "version": 3
   },
   "file_extension": ".py",
   "mimetype": "text/x-python",
   "name": "python",
   "nbconvert_exporter": "python",
   "pygments_lexer": "ipython3",
   "version": "3.8.5"
  },
  "varInspector": {
   "cols": {
    "lenName": 16,
    "lenType": 16,
    "lenVar": 40
   },
   "kernels_config": {
    "python": {
     "delete_cmd_postfix": "",
     "delete_cmd_prefix": "del ",
     "library": "var_list.py",
     "varRefreshCmd": "print(var_dic_list())"
    },
    "r": {
     "delete_cmd_postfix": ") ",
     "delete_cmd_prefix": "rm(",
     "library": "var_list.r",
     "varRefreshCmd": "cat(var_dic_list()) "
    }
   },
   "types_to_exclude": [
    "module",
    "function",
    "builtin_function_or_method",
    "instance",
    "_Feature"
   ],
   "window_display": false
  }
 },
 "nbformat": 4,
 "nbformat_minor": 4
}
