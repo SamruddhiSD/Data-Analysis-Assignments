{
 "cells": [
  {
   "cell_type": "code",
   "execution_count": null,
   "metadata": {},
   "outputs": [],
   "source": [
    "#1. What are the Boolean data type's two values? How do you go about writing them?"
   ]
  },
  {
   "cell_type": "code",
   "execution_count": 1,
   "metadata": {},
   "outputs": [
    {
     "name": "stdout",
     "output_type": "stream",
     "text": [
      "True\n",
      "True\n",
      "True\n",
      "False\n",
      "False\n"
     ]
    }
   ],
   "source": [
    "\"\"\"\n",
    "1.The boolean datatype in Python takes two values of True and False.The bool() function allows you to \n",
    "  evaluate any value and give either True or False in return. Almost any value is evaluated to True if\n",
    "  it contains something.\n",
    "2.Note that any string is True except empty string.\n",
    "3.Any number is True except 0.\n",
    "4.Any list, tuple, set and dictionary is True except empty ones.\"\"\"\n",
    "\n",
    "print(bool('Hello'))\n",
    "print(bool(15))\n",
    "print(bool(['apple','cherry']))\n",
    "print(bool([]))\n",
    "print(bool(''))"
   ]
  },
  {
   "cell_type": "code",
   "execution_count": 3,
   "metadata": {},
   "outputs": [
    {
     "data": {
      "text/plain": [
       "'There are three logical operators that are used to compare values. They evaluate expressions down \\nto Boolean values, returning either True or False . These operators are AND, OR and NOT.'"
      ]
     },
     "execution_count": 3,
     "metadata": {},
     "output_type": "execute_result"
    }
   ],
   "source": [
    "#2. What are the three different types of Boolean operators?\n",
    "\n",
    "\"\"\"There are three logical operators that are used to compare values. They evaluate expressions down \n",
    "to Boolean values, returning either True or False . These operators are AND, OR and NOT.\"\"\"\n",
    "\n"
   ]
  },
  {
   "cell_type": "code",
   "execution_count": null,
   "metadata": {},
   "outputs": [],
   "source": [
    "#3. Make a list of each Boolean operator's truth tables (i.e. every possible combination of Boolean\n",
    "#values for the operator and what it evaluate )."
   ]
  },
  {
   "cell_type": "markdown",
   "metadata": {},
   "source": [
    "\n",
    "|X||Y||NOT X||X and Y||X or Y|\n",
    "|-||-||-----||-------||------|\n",
    "|False||False||True||False||False|\n",
    "|False||True||True||False||True|\n",
    "|True||False||False||False||True|\n",
    "|True||True||False||True||True|\n"
   ]
  },
  {
   "cell_type": "code",
   "execution_count": 20,
   "metadata": {},
   "outputs": [
    {
     "name": "stdout",
     "output_type": "stream",
     "text": [
      "False\n",
      "False\n",
      "True\n",
      "False\n",
      "False\n",
      "True\n"
     ]
    }
   ],
   "source": [
    "#4. What are the values of the following expressions?\n",
    "\n",
    "print((5 > 4) and (3 == 5))\n",
    "print(not (5 > 4))\n",
    "print((5 > 4) or (3 == 5))\n",
    "print(not ((5 > 4) or (3 == 5)))\n",
    "print((True and True) and (True == False))\n",
    "print((not False) or (not True))\n"
   ]
  },
  {
   "cell_type": "code",
   "execution_count": null,
   "metadata": {},
   "outputs": [],
   "source": [
    "#5. What are the six different types of reference operators?\n",
    "\"\"\"\n",
    "Python divides the operators in the following groups:\n",
    "Arithmetic operators\n",
    "Assignment operators\n",
    "Comparison operators\n",
    "Logical operators\n",
    "Identity operators\n",
    "Membership operators\n",
    "Bitwise operators.\n",
    "\"\"\"\n"
   ]
  },
  {
   "cell_type": "code",
   "execution_count": null,
   "metadata": {},
   "outputs": [],
   "source": [
    "#6. How do you tell the difference between the equal to and assignment operators?\n",
    "\"\"\"\n",
    "The Assignment operator assigns values to a variable while the comparison operator (==) compares\n",
    "between two values if they have equal value or not.\n",
    "Assignment Operator - x=5; x = x+5\n",
    "Comparison Operator - 5==5; 5!=10\n",
    "\n",
    "Single equal to (=) is assignment operator while double equal to (==) is Comparison Operator.\n",
    "\"\"\""
   ]
  },
  {
   "cell_type": "code",
   "execution_count": null,
   "metadata": {},
   "outputs": [],
   "source": [
    "#7. Describe a condition and when you would use one\n",
    "\n",
    "x = 10\n",
    "x = x+5\n",
    "x = x-5\n",
    "x = x*3\n",
    "x = x/3\n",
    "x = x%3\n",
    "x = x//3\n",
    "x = x**3\n",
    "\n",
    "#Above examples are of using assignment operator(=) with various other arithmetic operators to assign\n",
    "#value to the variable x.\n"
   ]
  },
  {
   "cell_type": "code",
   "execution_count": 22,
   "metadata": {},
   "outputs": [
    {
     "name": "stdout",
     "output_type": "stream",
     "text": [
      "spam\n"
     ]
    }
   ],
   "source": [
    "#8. Recognize the following three blocks in this code:\n",
    "spam = 0\n",
    "if spam == 10:\n",
    "    print('eggs')\n",
    "    if spam > 5:\n",
    "        print('bacon')\n",
    "    else:\n",
    "        print('ham')\n",
    "    print('spam')\n",
    "print('spam')\n",
    "\n",
    "#Here in first line spam=0, we use an assignment operator(=) while in line 2, we use comparison \n",
    "#operator (==) to compare whether value of spam equals 10."
   ]
  },
  {
   "cell_type": "code",
   "execution_count": 26,
   "metadata": {},
   "outputs": [
    {
     "name": "stdout",
     "output_type": "stream",
     "text": [
      "Enter any number from 1 to 3:3\n",
      "Salutations\n"
     ]
    }
   ],
   "source": [
    "#9. Create a programme that prints. If 1 is stored in spam, prints Hello; if 2 is stored in spam,\n",
    "#prints Howdy; and if 3 is stored in spam, prints Salutations! if there's something else in spam.\n",
    "\n",
    "spam = int(input('Enter any number from 1 to 3:'))\n",
    "if spam == 1:\n",
    "    print('Hello')\n",
    "elif spam == 2:\n",
    "    print('Howdy')\n",
    "elif spam == 3:\n",
    "    print('Salutations')\n",
    "else:\n",
    "    print('Number outside range')"
   ]
  },
  {
   "cell_type": "code",
   "execution_count": null,
   "metadata": {},
   "outputs": [],
   "source": [
    "#10.If your programme is stuck in an endless loop, what keys can you press?\n",
    "\"\"\"\n",
    "An infinite loop occurs when a program keeps executing within one loop, never leaving it.\n",
    "To exit out of infinite loops on the command line, press CTRL + C.\n",
    "\"\"\""
   ]
  },
  {
   "cell_type": "code",
   "execution_count": 36,
   "metadata": {},
   "outputs": [
    {
     "name": "stdout",
     "output_type": "stream",
     "text": [
      "0\n",
      "1\n",
      "2\n",
      "3\n",
      "4\n"
     ]
    }
   ],
   "source": [
    "#11. How can you tell the difference between break and continue?\n",
    "\n",
    "\"\"\"\n",
    "break - This statement is used to break the loop i.e this statement exits the entire loop and comes \n",
    "out of the loop.\n",
    "continue- This statement skips the current iteration and the current iteration that is running will \n",
    "be stopped, and it will proceed with the next iteration.\n",
    "\n",
    "\"\"\"\n",
    "# i = 0\n",
    "# while i<5:\n",
    "#     print(i)\n",
    "#     if i ==3:\n",
    "#         break\n",
    "#     i+=1\n",
    "\n",
    "i = 0\n",
    "while i<5:\n",
    "    print(i)\n",
    "    if i ==3:\n",
    "        i+=1\n",
    "        continue\n",
    "    i+=1\n",
    "    "
   ]
  },
  {
   "cell_type": "code",
   "execution_count": 41,
   "metadata": {},
   "outputs": [
    {
     "name": "stdout",
     "output_type": "stream",
     "text": [
      "[0, 1, 2, 3, 4, 5, 6, 7, 8, 9]\n",
      "[0, 1, 2, 3, 4, 5, 6, 7, 8, 9]\n",
      "[0, 1, 2, 3, 4, 5, 6, 7, 8, 9]\n"
     ]
    }
   ],
   "source": [
    "#12. In a for loop, what is the difference between range(10), range(0, 10), and range(0, 10, 1)?\n",
    "\n",
    "\"\"\"\n",
    "The range function has syntax range(start, stop, step). Here  step value is 1 by default, start value\n",
    "is 0 by default.\n",
    "The start value is inclusive while the stop value is exclusive.\n",
    "So all of the above are same and will give same output of numbers starting from 0 till 9 with a step\n",
    "increment of 1 in the positive direction as follows-\n",
    "\"\"\"\n",
    "print(list(range(10)))\n",
    "print(list(range(0,10)))\n",
    "print(list(range(0,10,1)))"
   ]
  },
  {
   "cell_type": "code",
   "execution_count": 50,
   "metadata": {},
   "outputs": [
    {
     "name": "stdout",
     "output_type": "stream",
     "text": [
      "Using for loop-\n",
      "1 2 3 4 5 6 7 8 9 10 \n",
      "Using while loop-\n",
      "1 2 3 4 5 6 7 8 9 10 "
     ]
    }
   ],
   "source": [
    "#13. Using a for loop, write a short programme that prints the numbers 1 to 10 Then, using a while\n",
    "#loop, create an identical programme that prints the numbers 1 to 10.\n",
    "\n",
    "#Using for loop-\n",
    "lst = list(range(1,11))\n",
    "print('Using for loop-')\n",
    "for num in lst:\n",
    "    print(num, end = ' ')\n",
    "print()\n",
    "    \n",
    "#Using while loop-\n",
    "num = 1\n",
    "print('Using while loop-')\n",
    "while num<=10:\n",
    "    print(num, end = ' ')\n",
    "    num += 1"
   ]
  },
  {
   "cell_type": "code",
   "execution_count": 52,
   "metadata": {},
   "outputs": [],
   "source": [
    "#14. If you had a bacon() function within a spam module, what would you call it after importing spam?\n",
    "# import spam\n",
    "# spam.bacon()"
   ]
  },
  {
   "cell_type": "code",
   "execution_count": null,
   "metadata": {},
   "outputs": [],
   "source": [
    "#----------------------------------------End------------------------------------------------------------"
   ]
  }
 ],
 "metadata": {
  "kernelspec": {
   "display_name": "Python 3",
   "language": "python",
   "name": "python3"
  },
  "language_info": {
   "codemirror_mode": {
    "name": "ipython",
    "version": 3
   },
   "file_extension": ".py",
   "mimetype": "text/x-python",
   "name": "python",
   "nbconvert_exporter": "python",
   "pygments_lexer": "ipython3",
   "version": "3.8.5"
  },
  "varInspector": {
   "cols": {
    "lenName": 16,
    "lenType": 16,
    "lenVar": 40
   },
   "kernels_config": {
    "python": {
     "delete_cmd_postfix": "",
     "delete_cmd_prefix": "del ",
     "library": "var_list.py",
     "varRefreshCmd": "print(var_dic_list())"
    },
    "r": {
     "delete_cmd_postfix": ") ",
     "delete_cmd_prefix": "rm(",
     "library": "var_list.r",
     "varRefreshCmd": "cat(var_dic_list()) "
    }
   },
   "types_to_exclude": [
    "module",
    "function",
    "builtin_function_or_method",
    "instance",
    "_Feature"
   ],
   "window_display": false
  }
 },
 "nbformat": 4,
 "nbformat_minor": 4
}
