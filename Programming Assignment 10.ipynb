{
 "cells": [
  {
   "cell_type": "code",
   "execution_count": 1,
   "metadata": {},
   "outputs": [
    {
     "name": "stdout",
     "output_type": "stream",
     "text": [
      "Sum of the elements: 1259.6\n"
     ]
    }
   ],
   "source": [
    "#1.\tWrite a Python program to find sum of elements in list?\n",
    "\n",
    "lst = [10,24,466,647,23,89.6]\n",
    "sum_lst = 0\n",
    "for item in lst:\n",
    "    sum_lst += item\n",
    "print('Sum of the elements:', sum_lst)\n",
    "    "
   ]
  },
  {
   "cell_type": "code",
   "execution_count": 2,
   "metadata": {},
   "outputs": [
    {
     "name": "stdout",
     "output_type": "stream",
     "text": [
      "The product of all the numbers is: 7956.0\n"
     ]
    }
   ],
   "source": [
    "#2.\tWrite a Python program to  Multiply all numbers in the list?\n",
    "\n",
    "lst = [1,23.4,5,34,2]\n",
    "prod_num = 1\n",
    "for item in lst:\n",
    "    prod_num = prod_num*item\n",
    "print('The product of all the numbers is:', prod_num)"
   ]
  },
  {
   "cell_type": "code",
   "execution_count": 3,
   "metadata": {},
   "outputs": [
    {
     "name": "stdout",
     "output_type": "stream",
     "text": [
      "The smallest number in the list is: 3\n"
     ]
    }
   ],
   "source": [
    "#3.\tWrite a Python program to find smallest number in a list?\n",
    "\n",
    "lst = [100,24,466,647,3,89.6]\n",
    "smallest_num = lst[0]\n",
    "for item in lst:\n",
    "    if item < smallest_num:\n",
    "        smallest_num = item\n",
    "print('The smallest number in the list is:', smallest_num)"
   ]
  },
  {
   "cell_type": "code",
   "execution_count": 5,
   "metadata": {},
   "outputs": [
    {
     "name": "stdout",
     "output_type": "stream",
     "text": [
      "The largest number in the list is: 647\n"
     ]
    }
   ],
   "source": [
    "#4.\tWrite a Python program to find largest number in a list?\n",
    "\n",
    "lst = [100,24,466,647,3,89.6]\n",
    "largest_num = lst[0]\n",
    "for item in lst:\n",
    "    if item > largest_num:\n",
    "        largest_num = item\n",
    "print('The largest number in the list is:', largest_num)"
   ]
  },
  {
   "cell_type": "code",
   "execution_count": 7,
   "metadata": {},
   "outputs": [
    {
     "name": "stdout",
     "output_type": "stream",
     "text": [
      "List in descending order: [350, 200, 111, 56, 42, 33, 19, 17, 12]\n",
      "Second largest number in the list is:\n",
      "200\n"
     ]
    }
   ],
   "source": [
    "#5.\tWrite a Python program to find second largest number in a list?\n",
    "\n",
    "lst = [12,33,42,56,17,19,111,200,350]\n",
    "new_lst = []    #list for storing elements in descending order\n",
    "\n",
    "while range(len(lst)):\n",
    "    largest = lst[0]\n",
    "    for i in lst:\n",
    "        if i > largest:\n",
    "            largest = i\n",
    "    new_lst.append(largest)\n",
    "    lst.remove(largest)\n",
    "print('List in descending order:', new_lst)\n",
    "print('Second largest number in the list is:')\n",
    "print(new_lst[1])\n"
   ]
  },
  {
   "cell_type": "code",
   "execution_count": 8,
   "metadata": {},
   "outputs": [
    {
     "name": "stdout",
     "output_type": "stream",
     "text": [
      "Enter value of N (number of terms):5\n",
      "List in descending order: [350, 200, 111, 56, 42, 33, 19, 17, 12]\n",
      "N largest numbers in the list is:\n",
      "350\n",
      "200\n",
      "111\n",
      "56\n",
      "42\n"
     ]
    }
   ],
   "source": [
    "#6.\tWrite a Python program to find N largest elements from a list?\n",
    "\n",
    "N = int(input('Enter value of N (number of terms):'))\n",
    "lst = [12,33,42,56,17,19,111,200,350]\n",
    "new_lst = []    #list for storing elements in descending order\n",
    "\n",
    "while range(len(lst)):\n",
    "    largest = lst[0]\n",
    "    for i in lst:\n",
    "        if i > largest:\n",
    "            largest = i\n",
    "    new_lst.append(largest)\n",
    "    lst.remove(largest)\n",
    "print('List in descending order:', new_lst)\n",
    "print('N largest numbers in the list is:')\n",
    "for j in range(N):\n",
    "    print(new_lst[j])"
   ]
  },
  {
   "cell_type": "code",
   "execution_count": 12,
   "metadata": {},
   "outputs": [
    {
     "name": "stdout",
     "output_type": "stream",
     "text": [
      "The even numbers are: [12, 42, 56, 200, 350]\n"
     ]
    }
   ],
   "source": [
    "#7.\tWrite a Python program to print even numbers in a list?\n",
    "\n",
    "lst = [12,33,42,56,17,19,111,200,350]\n",
    "lst_even = []\n",
    "for item in lst:\n",
    "    if (item%2 == 0):\n",
    "        lst_even.append(item)\n",
    "print('The even numbers are:',lst_even)"
   ]
  },
  {
   "cell_type": "code",
   "execution_count": 14,
   "metadata": {},
   "outputs": [
    {
     "name": "stdout",
     "output_type": "stream",
     "text": [
      "The even numbers are: [33, 17, 19, 111]\n"
     ]
    }
   ],
   "source": [
    "#8.\tWrite a Python program to print odd numbers in a List?\n",
    "\n",
    "lst = [12,33,42,56,17,19,111,200,350]\n",
    "lst_odd = []\n",
    "for item in lst:\n",
    "    if (item%2 != 0):\n",
    "        lst_odd.append(item)\n",
    "print('The even numbers are:',lst_odd)"
   ]
  },
  {
   "cell_type": "code",
   "execution_count": 16,
   "metadata": {},
   "outputs": [
    {
     "name": "stdout",
     "output_type": "stream",
     "text": [
      "The list after removing the empty list is:\n",
      "[12, 'str', 45.7, 1, [45, 23, 11], 'hello']\n"
     ]
    }
   ],
   "source": [
    "#9.\tWrite a Python program to Remove empty List from List?\n",
    "\n",
    "lst = [12,'str',45.7,[],1,[45,23,11],[],'hello']\n",
    "for item in lst:\n",
    "    if type(item) == list:\n",
    "        if len(item) == 0:\n",
    "            lst.remove(item)\n",
    "print('The list after removing the empty list is:')\n",
    "print(lst)\n",
    "            "
   ]
  },
  {
   "cell_type": "code",
   "execution_count": 17,
   "metadata": {},
   "outputs": [
    {
     "name": "stdout",
     "output_type": "stream",
     "text": [
      "The new copied list is: [12, 'str', 45.7, [], 1, [45, 23, 11], [], 'hello']\n"
     ]
    }
   ],
   "source": [
    "#10.Write a Python program to Cloning or Copying a list?\n",
    "\n",
    "lst = [12,'str',45.7,[],1,[45,23,11],[],'hello']\n",
    "new_lst = []\n",
    "for item in lst:\n",
    "    new_lst.append(item)\n",
    "print('The new copied list is:', new_lst)"
   ]
  },
  {
   "cell_type": "code",
   "execution_count": 19,
   "metadata": {},
   "outputs": [
    {
     "name": "stdout",
     "output_type": "stream",
     "text": [
      "The element 2 has occurred 5 number of times\n"
     ]
    }
   ],
   "source": [
    "#11.Write a Python program to Count occurrences of an element in a list?\n",
    "\n",
    "lst  = [2,33,'hello', 5, 2, 34, 2, 2, 88,'yes',2]\n",
    "count = 0\n",
    "item = 2   #count occurences of 2\n",
    "for i in lst:\n",
    "    if i == 2:\n",
    "        count += 1\n",
    "print('The element {} has occurred {} number of times'.format(item, count))\n",
    "    "
   ]
  },
  {
   "cell_type": "code",
   "execution_count": null,
   "metadata": {},
   "outputs": [],
   "source": [
    "#----------------End----------------------"
   ]
  }
 ],
 "metadata": {
  "kernelspec": {
   "display_name": "Python 3",
   "language": "python",
   "name": "python3"
  },
  "language_info": {
   "codemirror_mode": {
    "name": "ipython",
    "version": 3
   },
   "file_extension": ".py",
   "mimetype": "text/x-python",
   "name": "python",
   "nbconvert_exporter": "python",
   "pygments_lexer": "ipython3",
   "version": "3.8.5"
  },
  "varInspector": {
   "cols": {
    "lenName": 16,
    "lenType": 16,
    "lenVar": 40
   },
   "kernels_config": {
    "python": {
     "delete_cmd_postfix": "",
     "delete_cmd_prefix": "del ",
     "library": "var_list.py",
     "varRefreshCmd": "print(var_dic_list())"
    },
    "r": {
     "delete_cmd_postfix": ") ",
     "delete_cmd_prefix": "rm(",
     "library": "var_list.r",
     "varRefreshCmd": "cat(var_dic_list()) "
    }
   },
   "types_to_exclude": [
    "module",
    "function",
    "builtin_function_or_method",
    "instance",
    "_Feature"
   ],
   "window_display": false
  }
 },
 "nbformat": 4,
 "nbformat_minor": 4
}
