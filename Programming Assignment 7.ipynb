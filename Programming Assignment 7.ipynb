{
 "cells": [
  {
   "cell_type": "code",
   "execution_count": 1,
   "metadata": {},
   "outputs": [
    {
     "name": "stdout",
     "output_type": "stream",
     "text": [
      "The sum of the array is 179\n"
     ]
    }
   ],
   "source": [
    "#1.\tWrite a Python Program to find sum of array?\n",
    "arr = [1,20,34,46,78]\n",
    "sum_arr = 0\n",
    "for item in arr:\n",
    "    sum_arr += item\n",
    "print('The sum of the array is', sum_arr)"
   ]
  },
  {
   "cell_type": "code",
   "execution_count": 34,
   "metadata": {},
   "outputs": [
    {
     "name": "stdout",
     "output_type": "stream",
     "text": [
      "The largest element of the array is 534\n"
     ]
    }
   ],
   "source": [
    "#2.\tWrite a Python Program to find largest element in an array?\n",
    "arr = [11,20,4,460,78,4,534,32]\n",
    "largest_num = arr[0]\n",
    "for item in arr:\n",
    "    if item > largest_num:\n",
    "        largest_num = item\n",
    "print('The largest element of the array is', largest_num)"
   ]
  },
  {
   "cell_type": "code",
   "execution_count": 35,
   "metadata": {},
   "outputs": [
    {
     "name": "stdout",
     "output_type": "stream",
     "text": [
      "Before rotation:  [10, 20, 30, 40, 50, 60]\n",
      "After rotation:  [60, 10, 20, 30, 40, 50]\n"
     ]
    }
   ],
   "source": [
    "#3.\tWrite a Python Program for array rotation?\n",
    "\n",
    "arr1 = [10,20,30,40,50,60]\n",
    "arr2  = []\n",
    "i = 0\n",
    "#for i in range(0,len(arr)):\n",
    "while i < (len(arr1)-1):\n",
    "    arr2.insert(i+1, arr1[i])\n",
    "    i = i+1\n",
    "else:\n",
    "    arr2.insert(0,arr1[i])\n",
    "print('Before rotation: ', arr1)\n",
    "print('After rotation: ', arr2)"
   ]
  },
  {
   "cell_type": "code",
   "execution_count": 21,
   "metadata": {},
   "outputs": [
    {
     "name": "stdout",
     "output_type": "stream",
     "text": [
      "[2, 3, 4, 5, 6, 7, 1]\n",
      "[3, 4, 5, 6, 7, 1, 2]\n"
     ]
    }
   ],
   "source": [
    "#4.\tWrite a Python Program to Split the array and add the first part to the end?\n",
    "\n",
    "#Function to left rotate array of size arr_len by split_len i.e 2 times here.\n",
    "def arrsplit(array, arr_len, split_len):\n",
    "    for i in range(split_len):\n",
    "        arr_rotate(array,arr_len)\n",
    "\n",
    "#Function to left Rotate array of size arr_len by 1\n",
    "    def arr_rotate(array,arr_len):\n",
    "    temp = array[0]   #temporary variable to store the splitted number\n",
    "    for i in range(arr_len -1):\n",
    "        array[i] = array[i+1]\n",
    "    array[arr_len - 1] = temp       #last element\n",
    "    print(array)\n",
    "\n",
    "#calling function\n",
    "arrsplit([1,2,3,4,5,6,7],7,2)"
   ]
  },
  {
   "cell_type": "code",
   "execution_count": 33,
   "metadata": {},
   "outputs": [
    {
     "name": "stdout",
     "output_type": "stream",
     "text": [
      "True\n"
     ]
    }
   ],
   "source": [
    "#5.\tWrite a Python Program to check if given array is Monotonic?\n",
    "\n",
    "def isMonotonic(A):\n",
    "    return (all(A[i] <= A[i + 1] for i in range(len(A) - 1)) or\n",
    "            all(A[i] >= A[i + 1] for i in range(len(A) - 1)))\n",
    "  \n",
    "# Driver program\n",
    "A = [6, 5, 4, 4]\n",
    "  \n",
    "# Print required result\n",
    "print(isMonotonic(A))\n",
    "\n"
   ]
  },
  {
   "cell_type": "code",
   "execution_count": null,
   "metadata": {},
   "outputs": [],
   "source": [
    "#------------End-------------------"
   ]
  },
  {
   "cell_type": "code",
   "execution_count": null,
   "metadata": {},
   "outputs": [],
   "source": []
  }
 ],
 "metadata": {
  "kernelspec": {
   "display_name": "Python 3",
   "language": "python",
   "name": "python3"
  },
  "language_info": {
   "codemirror_mode": {
    "name": "ipython",
    "version": 3
   },
   "file_extension": ".py",
   "mimetype": "text/x-python",
   "name": "python",
   "nbconvert_exporter": "python",
   "pygments_lexer": "ipython3",
   "version": "3.8.5"
  },
  "varInspector": {
   "cols": {
    "lenName": 16,
    "lenType": 16,
    "lenVar": 40
   },
   "kernels_config": {
    "python": {
     "delete_cmd_postfix": "",
     "delete_cmd_prefix": "del ",
     "library": "var_list.py",
     "varRefreshCmd": "print(var_dic_list())"
    },
    "r": {
     "delete_cmd_postfix": ") ",
     "delete_cmd_prefix": "rm(",
     "library": "var_list.r",
     "varRefreshCmd": "cat(var_dic_list()) "
    }
   },
   "types_to_exclude": [
    "module",
    "function",
    "builtin_function_or_method",
    "instance",
    "_Feature"
   ],
   "window_display": false
  }
 },
 "nbformat": 4,
 "nbformat_minor": 4
}
