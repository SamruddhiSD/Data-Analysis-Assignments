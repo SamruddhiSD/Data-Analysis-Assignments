{
 "cells": [
  {
   "cell_type": "code",
   "execution_count": 1,
   "metadata": {},
   "outputs": [
    {
     "name": "stdout",
     "output_type": "stream",
     "text": [
      "1 2 8\n"
     ]
    }
   ],
   "source": [
    "#1. What is the result of the code, and why?\n",
    "\n",
    "def func(a, b=6, c=8):\n",
    "        print(a, b, c)\n",
    "\n",
    "func(1, 2)\n",
    "\n",
    "\n",
    "# Default values of b and c are defined here as(6,8). Hence if new value is not assigned to b,c they take the default values \n",
    "# otherwise they take the newly defined values.\n",
    "# b takes newly assigned value of 2 and c takes its default value of 8."
   ]
  },
  {
   "cell_type": "code",
   "execution_count": 2,
   "metadata": {},
   "outputs": [
    {
     "name": "stdout",
     "output_type": "stream",
     "text": [
      "1 2 3\n"
     ]
    }
   ],
   "source": [
    "#2. What is the result of this code, and why?\n",
    "\n",
    "def func(a, b, c=5):\n",
    "        print(a, b, c)\n",
    "\n",
    "func(1, c=3, b=2)\n",
    "\n",
    "#Incase of keyworded arguments, order does not matter because we specifically map values to arguments.\n",
    "#keyworded arguments irrespective of their positions define a clear value of the variable.c takes value 3 and b takes value 2\n",
    "#while function calling."
   ]
  },
  {
   "cell_type": "code",
   "execution_count": 4,
   "metadata": {},
   "outputs": [
    {
     "name": "stdout",
     "output_type": "stream",
     "text": [
      "1 (2, 3)\n"
     ]
    }
   ],
   "source": [
    "#3. How about this code: what is its result, and why?\n",
    "\n",
    "def func(a, *pargs):\n",
    "        print(a, pargs)\n",
    "\n",
    "func(1, 2, 3)\n",
    "\n",
    "#*pargs keeps arguments in form of a tuple."
   ]
  },
  {
   "cell_type": "code",
   "execution_count": 5,
   "metadata": {},
   "outputs": [
    {
     "name": "stdout",
     "output_type": "stream",
     "text": [
      "1 {'c': 3, 'b': 2}\n"
     ]
    }
   ],
   "source": [
    "#4. What does this code print, and why?\n",
    "\n",
    "def func(a, **kargs):\n",
    "        print(a, kargs)\n",
    "\n",
    "func(a=1, c=3, b=2)\n",
    "\n",
    "#**kargs keeps arguments in a key-value pair format."
   ]
  },
  {
   "cell_type": "code",
   "execution_count": 6,
   "metadata": {},
   "outputs": [
    {
     "name": "stdout",
     "output_type": "stream",
     "text": [
      "1 5 6 5\n"
     ]
    }
   ],
   "source": [
    "#5. What gets printed by this, and explain?\n",
    "\n",
    "def func(a, b, c=8, d=5):\n",
    "    print(a, b, c, d)\n",
    "\n",
    "func(1, *(5, 6))  \n",
    "\n",
    "#tuple containing 2 values gets assigned to b,c. a takes 1 whereas d takes default values of 5."
   ]
  },
  {
   "cell_type": "code",
   "execution_count": 7,
   "metadata": {},
   "outputs": [
    {
     "data": {
      "text/plain": [
       "(1, ['x'], {'a': 'y'})"
      ]
     },
     "execution_count": 7,
     "metadata": {},
     "output_type": "execute_result"
    }
   ],
   "source": [
    "#6. what is the result of this, and explain?\n",
    "\n",
    "def func(a, b, c):\n",
    "    a = 2; \n",
    "    b[0] = 'x';\n",
    "    c['a'] = 'y'\n",
    "\n",
    "l=1; m=[1]; n={'a':0}\n",
    "func(l, m,  n)\n",
    "l, m, n\n",
    "\n",
    "#m is a list.List being mutable, we changed its element from 1 to 'x'. Also we changed the value against key 'a' to y from 0.\n",
    "#inside the dictionary."
   ]
  },
  {
   "cell_type": "code",
   "execution_count": null,
   "metadata": {},
   "outputs": [],
   "source": [
    "#----------------End----------------------------"
   ]
  }
 ],
 "metadata": {
  "kernelspec": {
   "display_name": "Python 3",
   "language": "python",
   "name": "python3"
  },
  "language_info": {
   "codemirror_mode": {
    "name": "ipython",
    "version": 3
   },
   "file_extension": ".py",
   "mimetype": "text/x-python",
   "name": "python",
   "nbconvert_exporter": "python",
   "pygments_lexer": "ipython3",
   "version": "3.8.5"
  },
  "varInspector": {
   "cols": {
    "lenName": 16,
    "lenType": 16,
    "lenVar": 40
   },
   "kernels_config": {
    "python": {
     "delete_cmd_postfix": "",
     "delete_cmd_prefix": "del ",
     "library": "var_list.py",
     "varRefreshCmd": "print(var_dic_list())"
    },
    "r": {
     "delete_cmd_postfix": ") ",
     "delete_cmd_prefix": "rm(",
     "library": "var_list.r",
     "varRefreshCmd": "cat(var_dic_list()) "
    }
   },
   "types_to_exclude": [
    "module",
    "function",
    "builtin_function_or_method",
    "instance",
    "_Feature"
   ],
   "window_display": false
  }
 },
 "nbformat": 4,
 "nbformat_minor": 4
}
