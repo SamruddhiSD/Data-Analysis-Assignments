{
 "cells": [
  {
   "cell_type": "markdown",
   "metadata": {},
   "source": [
    "1. Create a function that takes a number n (integer greater than zero) as an argument, and returns 2 if n is odd and 8 if n is even.\n",
    "\n",
    "You can only use the following arithmetic operators: addition of numbers +, subtraction of numbers -, multiplication of number *, division of number /, and exponentiation **.\n",
    "\n",
    "You are not allowed to use any other methods in this challenge (i.e. no if statements, comparison operators, etc).\n",
    "\n",
    "Examples\n",
    "\n",
    "f(1) ➞ 2\n",
    "\n",
    "f(2) ➞ 8\n",
    "\n",
    "f(3) ➞ 2\n"
   ]
  },
  {
   "cell_type": "code",
   "execution_count": 18,
   "metadata": {},
   "outputs": [
    {
     "name": "stdout",
     "output_type": "stream",
     "text": [
      "2\n",
      "8\n",
      "2\n",
      "Number less than zero\n"
     ]
    }
   ],
   "source": [
    "def iseven(num):\n",
    "    while num>0:\n",
    "        num1 = int(num/2)*2\n",
    "        if num1 != num:\n",
    "            return 2\n",
    "        else:\n",
    "            return 8\n",
    "    else:\n",
    "        return ('Number less than zero')\n",
    "    \n",
    "\n",
    "    \n",
    "print(iseven(1))\n",
    "print(iseven(2))\n",
    "print(iseven(3))\n",
    "print(iseven(-1))"
   ]
  },
  {
   "cell_type": "code",
   "execution_count": null,
   "metadata": {},
   "outputs": [],
   "source": []
  },
  {
   "cell_type": "markdown",
   "metadata": {},
   "source": [
    "2. Create a function that returns the majority vote in a list. A majority vote is an element that occurs > N/2 times in a list (where N is the length of the list).\n",
    "\n",
    "Examples\n",
    "\n",
    "majority_vote([\"A\", \"A\", \"B\"]) ➞ \"A\"\n",
    "\n",
    "majority_vote([\"A\", \"A\", \"A\", \"B\", \"C\", \"A\"]) ➞ \"A\"\n",
    "\n",
    "majority_vote([\"A\", \"B\", \"B\", \"A\", \"C\", \"C\"]) ➞ None\n",
    "\n",
    "\n"
   ]
  },
  {
   "cell_type": "code",
   "execution_count": 35,
   "metadata": {},
   "outputs": [
    {
     "name": "stdout",
     "output_type": "stream",
     "text": [
      "A\n",
      "C\n",
      "None\n",
      "None\n"
     ]
    }
   ],
   "source": [
    "def majority_vote(my_lst):\n",
    "    for i in my_lst:\n",
    "        if my_lst.count(i) > len(my_lst)/2:\n",
    "            return i\n",
    "        else:\n",
    "            continue\n",
    "        \n",
    "\n",
    "print(majority_vote([\"A\", \"A\", \"B\"]))\n",
    "print(majority_vote([\"C\", \"C\", \"A\", \"C\", \"C\", \"A\"]))\n",
    "print(majority_vote([\"A\", \"B\", \"B\", \"A\", \"C\", \"C\"]))\n",
    "print(majority_vote([\"A\", \"A\",\"A\",\"B\", \"B\",\"B\",\"B\", \"A\", \"C\", \"C\",\"C\",\"C\"]))"
   ]
  },
  {
   "cell_type": "code",
   "execution_count": null,
   "metadata": {},
   "outputs": [],
   "source": []
  },
  {
   "cell_type": "markdown",
   "metadata": {},
   "source": [
    "3. Create a function that takes a string txt and censors any word from a given list lst. The text removed must be replaced by the given character char.\n",
    "\n",
    "Examples\n",
    "\n",
    "censor_string(\"Today is a Wednesday!\", [\"Today\", \"a\"], \"-\") ➞ \"----- is - Wednesday!\"\n",
    "\n",
    "censor_string(\"The cow jumped over the moon.\", [\"cow\", \"over\"], \"*\"), \"The *** jumped **** the moon.\")\n",
    "\n",
    "censor_string(\"Why did the chicken cross the road?\", [\"Did\", \"chicken\", \"road\"], \"*\") ➞ \"Why *** the ******* cross the ****?\"\n",
    "\n"
   ]
  },
  {
   "cell_type": "code",
   "execution_count": 106,
   "metadata": {},
   "outputs": [
    {
     "name": "stdout",
     "output_type": "stream",
     "text": [
      "-----is-Wednesday!\n",
      "The***jumped****themoon.\n",
      "Why***the*******crossthe****?\n"
     ]
    }
   ],
   "source": [
    "def censor_string(my_str,my_lst,symbol):\n",
    "    new_str = ''\n",
    "    #my_lst = [word.lower() for word in my_lst]\n",
    "    new_lst = my_str.split()\n",
    "    for item in new_lst:\n",
    "        if item in my_lst:\n",
    "            for s in item:\n",
    "                new_str +=  symbol\n",
    "        else:\n",
    "            new_str +=  item\n",
    "    return new_str\n",
    "\n",
    "print(censor_string(\"Today is a Wednesday!\", [\"Today\", \"a\"], \"-\"))\n",
    "print(censor_string(\"The cow jumped over the moon.\", [\"cow\", \"over\"], \"*\"))\n",
    "print(censor_string(\"Why did the chicken cross the road ?\", [\"did\", \"chicken\", \"road\"], \"*\"))"
   ]
  },
  {
   "cell_type": "code",
   "execution_count": null,
   "metadata": {},
   "outputs": [],
   "source": []
  },
  {
   "cell_type": "markdown",
   "metadata": {},
   "source": [
    "4. In mathematics a Polydivisible Number (or magic number) is a number in a given number base with digits abcde... that has the following properties:\n",
    "\n",
    "-  Its first digit a is not 0.\n",
    "- The number formed by its first two digits ab is a multiple of 2.\n",
    "- The number formed by its first three digits abc is a multiple of 3.\n",
    "- The number formed by its first four digits abcd is a multiple of 4.\n",
    "\n",
    "Create a function which takes an integer n and returns True if the given number is a Polydivisible Number and False otherwise.\n",
    "\n",
    "Examples\n",
    "\n",
    "is_polydivisible(1232) ➞ True\n",
    "1     / 1 = 1\n",
    "12    / 2 = 6\n",
    "123   / 3 = 41\n",
    "1232  / 4 = 308\n",
    "\n",
    "is_polydivisible(123220 ) ➞ False\n",
    "1   / 1 = 1\n",
    "12   / 2 = 6\n",
    "123   / 3 = 41\n",
    "1232   / 4 = 308\n",
    "12322   / 5 = 2464.4         # Not a Whole Number\n",
    "123220   /6 = 220536.333...  # Not a Whole Number\n"
   ]
  },
  {
   "cell_type": "code",
   "execution_count": 97,
   "metadata": {},
   "outputs": [
    {
     "name": "stdout",
     "output_type": "stream",
     "text": [
      "True\n",
      "False\n",
      "True\n",
      "False\n",
      "True\n"
     ]
    }
   ],
   "source": [
    "def is_polydivisible(num):\n",
    "    num1 = str(num)\n",
    "    new_num = ''\n",
    "    for i in range(0,1):\n",
    "        if int(num1[i]) != 0:\n",
    "            new_num += num1[i]\n",
    "            for j in range(1,len(num1)):\n",
    "                new_num += num1[i+j]\n",
    "                if int(new_num) % (j+1) == 0:\n",
    "                    continue\n",
    "                else:\n",
    "                    return False\n",
    "        else:\n",
    "            return False\n",
    "    return True\n",
    "                \n",
    "print(is_polydivisible(1232))    \n",
    "print(is_polydivisible(123220))\n",
    "print(is_polydivisible(345654))\n",
    "print(is_polydivisible(130))\n",
    "print(is_polydivisible(129))"
   ]
  },
  {
   "cell_type": "code",
   "execution_count": null,
   "metadata": {},
   "outputs": [],
   "source": []
  },
  {
   "cell_type": "markdown",
   "metadata": {},
   "source": [
    "5. Create a function that takes a list of numbers and returns the sum of all prime numbers in the list.\n",
    "\n",
    "Examples\n",
    "\n",
    "sum_primes([1, 2, 3, 4, 5, 6, 7, 8, 9, 10]) ➞ 17\n",
    "\n",
    "sum_primes([2, 3, 4, 11, 20, 50, 71]) ➞ 87\n",
    "\n",
    "sum_primes([]) ➞ None\n",
    "\n"
   ]
  },
  {
   "cell_type": "code",
   "execution_count": 113,
   "metadata": {},
   "outputs": [
    {
     "name": "stdout",
     "output_type": "stream",
     "text": [
      "17\n",
      "87\n",
      "('Empty list', [])\n"
     ]
    }
   ],
   "source": [
    "def sum_primes(my_lst):\n",
    "    prime = []\n",
    "    while len(my_lst)>0:\n",
    "        for item in my_lst:\n",
    "            if item == 1:\n",
    "                continue\n",
    "#             elif item == 2:\n",
    "#                 prime.append(item)\n",
    "            for i in range(2, item):\n",
    "                if item % i == 0:\n",
    "                    break\n",
    "            else:\n",
    "                prime.append(item)\n",
    "        return sum(prime)\n",
    "    else:\n",
    "        return ('Empty list',[])\n",
    "\n",
    "    \n",
    "print(sum_primes([1, 2, 3, 4, 5, 6, 7, 8, 9, 10]))\n",
    "print(sum_primes([2, 3, 4, 11, 20, 50, 71]))\n",
    "print(sum_primes([]))"
   ]
  },
  {
   "cell_type": "code",
   "execution_count": null,
   "metadata": {},
   "outputs": [],
   "source": [
    "#--------------------------------------End-------------------------------------------------------------"
   ]
  }
 ],
 "metadata": {
  "kernelspec": {
   "display_name": "Python 3",
   "language": "python",
   "name": "python3"
  },
  "language_info": {
   "codemirror_mode": {
    "name": "ipython",
    "version": 3
   },
   "file_extension": ".py",
   "mimetype": "text/x-python",
   "name": "python",
   "nbconvert_exporter": "python",
   "pygments_lexer": "ipython3",
   "version": "3.8.5"
  },
  "varInspector": {
   "cols": {
    "lenName": 16,
    "lenType": 16,
    "lenVar": 40
   },
   "kernels_config": {
    "python": {
     "delete_cmd_postfix": "",
     "delete_cmd_prefix": "del ",
     "library": "var_list.py",
     "varRefreshCmd": "print(var_dic_list())"
    },
    "r": {
     "delete_cmd_postfix": ") ",
     "delete_cmd_prefix": "rm(",
     "library": "var_list.r",
     "varRefreshCmd": "cat(var_dic_list()) "
    }
   },
   "types_to_exclude": [
    "module",
    "function",
    "builtin_function_or_method",
    "instance",
    "_Feature"
   ],
   "window_display": false
  }
 },
 "nbformat": 4,
 "nbformat_minor": 4
}
