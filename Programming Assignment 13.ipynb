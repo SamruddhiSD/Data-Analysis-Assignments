{
 "cells": [
  {
   "cell_type": "markdown",
   "metadata": {},
   "source": [
    "Question 1:\n",
    "\n",
    "Write a program that calculates and prints the value according to the given formula:\n",
    "\n",
    "Q = Square root of [(2 * C * D)/H]\n",
    "\n",
    "Following are the fixed values of C and H:\n",
    "\n",
    "C is 50. H is 30.\n",
    "\n",
    "D is the variable whose values should be input to your program in a comma-separated sequence.\n",
    "\n",
    "Example\n",
    "\n",
    "Let us assume the following comma separated input sequence is given to the program:\n",
    "\n",
    "100,150,180\n",
    "\n",
    "The output of the program should be:\n",
    "\n",
    "18,22,24\n"
   ]
  },
  {
   "cell_type": "code",
   "execution_count": 13,
   "metadata": {},
   "outputs": [
    {
     "name": "stdout",
     "output_type": "stream",
     "text": [
      "Enter values:[100,150,180]\n",
      "The output is:\n",
      "[18, 22, 24]\n"
     ]
    }
   ],
   "source": [
    "#Q1.\n",
    "\n",
    "import math\n",
    "result = []\n",
    "C = 50\n",
    "H = 30\n",
    "D = eval(input('Enter values:')) #giving comma separated input in list form.\n",
    "for d in D:\n",
    "    Q = math.sqrt((2 * C * d)/H)\n",
    "    result.append(round(Q))\n",
    "print('The output is:')\n",
    "print(result)\n"
   ]
  },
  {
   "cell_type": "code",
   "execution_count": null,
   "metadata": {},
   "outputs": [],
   "source": []
  },
  {
   "cell_type": "markdown",
   "metadata": {},
   "source": [
    "Question 2:\n",
    "Write a program which takes 2 digits, X,Y as input and generates a 2-dimensional array. The element value in the i-th row and j-th column of the array should be i*j.\n",
    "\n",
    "Note: i=0,1.., X-1; j=0,1,¡¬Y-1.\n",
    "\n",
    "Example\n",
    "\n",
    "Suppose the following inputs are given to the program:\n",
    "\n",
    "3,5\n",
    "\n",
    "Then, the output of the program should be:\n",
    "\n",
    "[[0, 0, 0, 0, 0], [0, 1, 2, 3, 4], [0, 2, 4, 6, 8]] \n"
   ]
  },
  {
   "cell_type": "code",
   "execution_count": 28,
   "metadata": {},
   "outputs": [
    {
     "name": "stdout",
     "output_type": "stream",
     "text": [
      "[[0, 0, 0, 0, 0, 0, 0, 0, 0, 0]]\n"
     ]
    }
   ],
   "source": [
    "#Q2.\n",
    "\n",
    "X = 3\n",
    "Y = 5\n",
    "l1 =[]\n",
    "l2 = []\n",
    "for i in range(0,X):\n",
    "    while len(l1) < Y:\n",
    "        for j in range(0,Y):\n",
    "            #print(len(l1))\n",
    "            l1.append(i*j)                     #incomplete\n",
    "    else:\n",
    "        while len(l2) < Y:\n",
    "            for j in range(0,Y):\n",
    "                #print(len(l1))\n",
    "                l2.append(i*j)\n",
    "\n",
    "l = [l1+l2]\n",
    "print(l)\n",
    "         \n",
    "    \n",
    "    "
   ]
  },
  {
   "cell_type": "code",
   "execution_count": null,
   "metadata": {},
   "outputs": [],
   "source": []
  },
  {
   "cell_type": "markdown",
   "metadata": {},
   "source": [
    "Question 3:\n",
    "Write a program that accepts a comma separated sequence of words as input and prints the words in a comma-separated sequence after sorting them alphabetically.\n",
    "\n",
    "Suppose the following input is supplied to the program:\n",
    "\n",
    "without,hello,bag,world\n",
    "\n",
    "Then, the output should be:\n",
    "\n",
    "bag,hello,without,world\n",
    "\n"
   ]
  },
  {
   "cell_type": "code",
   "execution_count": 3,
   "metadata": {},
   "outputs": [
    {
     "name": "stdout",
     "output_type": "stream",
     "text": [
      "Input comma separated sequence of words without, hello, bag, world\n",
      " bag, hello, without, world\n"
     ]
    }
   ],
   "source": [
    "#Q3.\n",
    "\n",
    "items = input(\"Input comma separated sequence of words\")\n",
    "new_items = items.split(\",\")\n",
    "#print(sorted(new_items))\n",
    "print(\",\".join(sorted(new_items)))"
   ]
  },
  {
   "cell_type": "code",
   "execution_count": null,
   "metadata": {},
   "outputs": [],
   "source": []
  },
  {
   "cell_type": "markdown",
   "metadata": {},
   "source": [
    "Question 4:\n",
    "Write a program that accepts a sequence of whitespace separated words as input and prints the words after removing all duplicate words and sorting them alphanumerically.\n",
    "\n",
    "Suppose the following input is supplied to the program:\n",
    "\n",
    "hello world and practice makes perfect and hello world again\n",
    "\n",
    "Then, the output should be:\n",
    "\n",
    "again and hello makes perfect practice world\n"
   ]
  },
  {
   "cell_type": "code",
   "execution_count": 54,
   "metadata": {},
   "outputs": [
    {
     "name": "stdout",
     "output_type": "stream",
     "text": [
      "Enter a string of choice:hello world and practice makes perfect and hello world again\n",
      "The original sequence:\n",
      "hello world and practice makes perfect and hello world again\n",
      "\n",
      "The sorted sequence with unique elements:\n",
      "again and hello makes perfect practice world\n"
     ]
    }
   ],
   "source": [
    "#Q4.\n",
    "\n",
    "my_str = input('Enter a string of choice:')\n",
    "unique_ele = []\n",
    "my_lst = my_str.split()\n",
    "sorted_lst = sorted(my_lst)   #sorting the list\n",
    "for word in sorted_lst:\n",
    "    if word not in unique_ele:\n",
    "        unique_ele.append(word)\n",
    "print(\"The original sequence:\")\n",
    "print(my_str)\n",
    "print()\n",
    "print('The sorted sequence with unique elements:')\n",
    "print(' '.join(unique_ele))"
   ]
  },
  {
   "cell_type": "code",
   "execution_count": null,
   "metadata": {},
   "outputs": [],
   "source": []
  },
  {
   "cell_type": "markdown",
   "metadata": {},
   "source": [
    "Question 5:\n",
    "Write a program that accepts a sentence and calculate the number of letters and digits.\n",
    "\n",
    "Suppose the following input is supplied to the program:\n",
    "\n",
    "hello world! 123\n",
    "\n",
    "Then, the output should be:\n",
    "\n",
    "LETTERS 10\n",
    "\n",
    "DIGITS 3\n"
   ]
  },
  {
   "cell_type": "code",
   "execution_count": 55,
   "metadata": {},
   "outputs": [
    {
     "name": "stdout",
     "output_type": "stream",
     "text": [
      "Enter a sentence:hello world! 123\n",
      "The sentence has 10 letters and 3 digits\n"
     ]
    }
   ],
   "source": [
    "#Q5.\n",
    "\n",
    "my_str = input('Enter a sentence:')\n",
    "count_letters = 0\n",
    "count_digits = 0\n",
    "for i in my_str:\n",
    "    if i.isalpha():\n",
    "        count_letters +=1\n",
    "    elif i.isdigit():\n",
    "        count_digits += 1\n",
    "print('The sentence has {} letters and {} digits'.format(count_letters, count_digits))"
   ]
  },
  {
   "cell_type": "code",
   "execution_count": null,
   "metadata": {},
   "outputs": [],
   "source": []
  },
  {
   "cell_type": "markdown",
   "metadata": {},
   "source": [
    "Question 6:\n",
    "A website requires the users to input username and password to register. Write a program to check the validity of password input by users.\n",
    "\n",
    "Following are the criteria for checking the password:\n",
    "\n",
    "1. At least 1 letter between [a-z]\n",
    "\n",
    "2. At least 1 number between [0-9]\n",
    "\n",
    "1. At least 1 letter between [A-Z]\n",
    "\n",
    "3. At least 1 character from [$#@]\n",
    "\n",
    "4. Minimum length of transaction password: 6\n",
    "\n",
    "5. Maximum length of transaction password: 12\n",
    "\n",
    "Your program should accept a sequence of comma separated passwords and will check them according to the above criteria. Passwords that match the criteria are to be printed, each separated by a comma.\n",
    "\n",
    "Example\n",
    "\n",
    "If the following passwords are given as input to the program:\n",
    "\n",
    "ABd1234@1,a F1#,2w3E*,2We3345\n",
    "\n",
    "Then, the output of the program should be:\n",
    "\n",
    "ABd1234@1\n"
   ]
  },
  {
   "cell_type": "code",
   "execution_count": 66,
   "metadata": {},
   "outputs": [
    {
     "name": "stdout",
     "output_type": "stream",
     "text": [
      "Enter any password:'ABd1234@1','a F1#','2w3E*','2We3345'\n",
      "<class 'tuple'>\n",
      "Valid password ABd1234@1\n"
     ]
    }
   ],
   "source": [
    "#Q6.\n",
    "\n",
    "password = eval(input('Enter any password:'))\n",
    "print(type(password))\n",
    "lower = 0\n",
    "upper = 0\n",
    "digit = 0\n",
    "spec_char = 0\n",
    "char = '!@#$%^&*'\n",
    "for word in password:\n",
    "    if len(word) >6 and len(word) <12:\n",
    "        for i in word:\n",
    "            if i.islower():\n",
    "                lower += 1\n",
    "            elif i.isupper():\n",
    "                upper += 1\n",
    "            elif i.isdigit():\n",
    "                digit += 1\n",
    "            elif i in char:\n",
    "                spec_char += 1\n",
    "        if ((lower >= 1 ) and (upper>=1) and (digit>=1) and (spec_char>=1)):\n",
    "            print('Valid password', word)\n",
    "            lower,upper,digit,spec_char = 0,0,0,0\n",
    "           \n",
    "        "
   ]
  },
  {
   "cell_type": "code",
   "execution_count": null,
   "metadata": {},
   "outputs": [],
   "source": [
    "#---------------------------------End----------------------------------"
   ]
  }
 ],
 "metadata": {
  "kernelspec": {
   "display_name": "Python 3",
   "language": "python",
   "name": "python3"
  },
  "language_info": {
   "codemirror_mode": {
    "name": "ipython",
    "version": 3
   },
   "file_extension": ".py",
   "mimetype": "text/x-python",
   "name": "python",
   "nbconvert_exporter": "python",
   "pygments_lexer": "ipython3",
   "version": "3.8.5"
  },
  "varInspector": {
   "cols": {
    "lenName": 16,
    "lenType": 16,
    "lenVar": 40
   },
   "kernels_config": {
    "python": {
     "delete_cmd_postfix": "",
     "delete_cmd_prefix": "del ",
     "library": "var_list.py",
     "varRefreshCmd": "print(var_dic_list())"
    },
    "r": {
     "delete_cmd_postfix": ") ",
     "delete_cmd_prefix": "rm(",
     "library": "var_list.r",
     "varRefreshCmd": "cat(var_dic_list()) "
    }
   },
   "types_to_exclude": [
    "module",
    "function",
    "builtin_function_or_method",
    "instance",
    "_Feature"
   ],
   "window_display": false
  }
 },
 "nbformat": 4,
 "nbformat_minor": 4
}
