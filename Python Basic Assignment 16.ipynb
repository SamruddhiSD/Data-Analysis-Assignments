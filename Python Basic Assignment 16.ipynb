{
 "cells": [
  {
   "cell_type": "markdown",
   "metadata": {},
   "source": [
    "1. Make a list called years list that starts with the year you were born and goes through each year until your fifth birthday. If you were born in 1980, suppose take example. Years list = [1980, 1981, 1982, 1983, 1984, 1985] will be the list."
   ]
  },
  {
   "cell_type": "code",
   "execution_count": 3,
   "metadata": {},
   "outputs": [
    {
     "name": "stdout",
     "output_type": "stream",
     "text": [
      "Enter birth year:1998\n",
      "[1998, 1999, 2000, 2001, 2002, 2003]\n"
     ]
    }
   ],
   "source": [
    "born_yr = int(input('Enter birth year:'))\n",
    "years = []\n",
    "for yr in range(born_yr, born_yr+6):\n",
    "    years.append(yr)\n",
    "print(years)"
   ]
  },
  {
   "cell_type": "markdown",
   "metadata": {},
   "source": [
    "2. When was your third birthday, according to the years list? Remember, for your first year, you were 0 years old.\n",
    "\n",
    "In the years list, which year were you the oldest?\n"
   ]
  },
  {
   "cell_type": "code",
   "execution_count": 10,
   "metadata": {},
   "outputs": [
    {
     "name": "stdout",
     "output_type": "stream",
     "text": [
      "Third Birthday: 2001 ,age: 3\n",
      "Oldest Birthday: 2003 ,age: 5\n"
     ]
    }
   ],
   "source": [
    "years = [1998, 1999, 2000, 2001, 2002, 2003]\n",
    "third_birthday = years[3]\n",
    "oldest_birthday = years[-1]\n",
    "age = oldest_birthday - years[0]\n",
    "print('Third Birthday:', third_birthday, ',age:', third_birthday - years[0])\n",
    "print('Oldest Birthday:', oldest_birthday, \",age:\", age)\n"
   ]
  },
  {
   "cell_type": "markdown",
   "metadata": {},
   "source": [
    "4. Make a list called stuff with the three strings \"mozzarella,\" \"cinderella,\" and \"salmonella\" as components."
   ]
  },
  {
   "cell_type": "code",
   "execution_count": 11,
   "metadata": {},
   "outputs": [],
   "source": [
    "stuff = ['mozzarella','cinderalla','salmonella']"
   ]
  },
  {
   "cell_type": "markdown",
   "metadata": {},
   "source": [
    "5. Print the list after capitalising the element in items that refers to an individual. Did the factor in the list change as a result of it?"
   ]
  },
  {
   "cell_type": "code",
   "execution_count": 13,
   "metadata": {},
   "outputs": [
    {
     "name": "stdout",
     "output_type": "stream",
     "text": [
      "['mozzarella', 'CINDERALLA', 'salmonella']\n"
     ]
    }
   ],
   "source": [
    "stuff = ['mozzarella','cinderalla','salmonella']\n",
    "\n",
    "#Capitalising the element referring to an individual.\n",
    "stuff[1] = stuff[1].upper()\n",
    "print(stuff)\n",
    "\n",
    "#yes."
   ]
  },
  {
   "cell_type": "markdown",
   "metadata": {},
   "source": [
    "6. Print the list of all of the cheesy elements in capital letters."
   ]
  },
  {
   "cell_type": "code",
   "execution_count": 14,
   "metadata": {},
   "outputs": [
    {
     "name": "stdout",
     "output_type": "stream",
     "text": [
      "['MOZZARELLA', 'cinderalla', 'salmonella']\n"
     ]
    }
   ],
   "source": [
    "stuff = ['mozzarella','cinderalla','salmonella']\n",
    "\n",
    "#printing the cheesy element of the list\n",
    "stuff[0] = stuff[0].upper()\n",
    "print(stuff)"
   ]
  },
  {
   "cell_type": "markdown",
   "metadata": {},
   "source": [
    "7. Remove the disease factor from the list, collect your Nobel Prize, and print it out."
   ]
  },
  {
   "cell_type": "code",
   "execution_count": 15,
   "metadata": {},
   "outputs": [
    {
     "name": "stdout",
     "output_type": "stream",
     "text": [
      "['mozzarella', 'cinderalla']\n"
     ]
    }
   ],
   "source": [
    "stuff = ['mozzarella','cinderalla','salmonella']\n",
    "\n",
    "#removing the disease factor from the list\n",
    "stuff.remove('salmonella')\n",
    "print(stuff)\n"
   ]
  },
  {
   "cell_type": "markdown",
   "metadata": {},
   "source": [
    "8. Make a surprise list with the elements \"Groucho,\" \"Chico,\" and \"Harpo.\"\n",
    "\n"
   ]
  },
  {
   "cell_type": "code",
   "execution_count": 16,
   "metadata": {},
   "outputs": [],
   "source": [
    "surprise = [\"Groucho\", 'Chico','Harpo']"
   ]
  },
  {
   "cell_type": "markdown",
   "metadata": {},
   "source": [
    "9. Lowercase, reverse, and capitalise the last element of the surprise list."
   ]
  },
  {
   "cell_type": "code",
   "execution_count": 38,
   "metadata": {},
   "outputs": [
    {
     "name": "stdout",
     "output_type": "stream",
     "text": [
      "['Groucho', 'Chico', 'HARPO']\n",
      "['Groucho', 'Chico', 'OPRAH']\n",
      "['Groucho', 'Chico', 'Oprah']\n"
     ]
    }
   ],
   "source": [
    "surprise = [\"Groucho\", 'Chico','Harpo']\n",
    "\n",
    "#Lowercasing the last element-\n",
    "surprise[-1] = surprise[-1].upper()\n",
    "print(surprise)\n",
    "\n",
    "#Reversing the last element-\n",
    "surprise[-1] = surprise[-1][::-1]\n",
    "print(surprise)\n",
    "\n",
    "#capitalising the last element-\n",
    "surprise[-1] = surprise[-1].capitalize()\n",
    "print(surprise)\n"
   ]
  },
  {
   "cell_type": "markdown",
   "metadata": {},
   "source": [
    "10. Create and print an English-to-French dictionary called e2f. Here are some of words to get you started with: Dogs are called chien, cats are called chat, and walruses are called morse."
   ]
  },
  {
   "cell_type": "code",
   "execution_count": 40,
   "metadata": {},
   "outputs": [
    {
     "name": "stdout",
     "output_type": "stream",
     "text": [
      "{'Dogs': 'chein', 'cats': 'chat', 'walruses': 'morse'} <class 'dict'>\n"
     ]
    }
   ],
   "source": [
    "e2f = {\n",
    "    'Dogs': 'chein',\n",
    "    'cats': 'chat',\n",
    "    'walruses': 'morse'\n",
    "    }\n",
    "\n",
    "print(e2f, type(e2f))"
   ]
  },
  {
   "cell_type": "markdown",
   "metadata": {},
   "source": [
    "11. Write the French word for walrus in your three-word dictionary e2f."
   ]
  },
  {
   "cell_type": "code",
   "execution_count": 42,
   "metadata": {},
   "outputs": [
    {
     "name": "stdout",
     "output_type": "stream",
     "text": [
      "French word for walrus is: morse\n"
     ]
    }
   ],
   "source": [
    "#french word for walrus- \n",
    "print('French word for walrus is:', e2f[\"walruses\"])"
   ]
  },
  {
   "cell_type": "markdown",
   "metadata": {},
   "source": [
    "12. Build a f2e from e2f French-to-English dictionary. Make use of the item method."
   ]
  },
  {
   "cell_type": "code",
   "execution_count": 88,
   "metadata": {},
   "outputs": [
    {
     "name": "stdout",
     "output_type": "stream",
     "text": [
      "{'chein': 'Dogs', 'chat': 'cats', 'morse': 'walruses'}\n"
     ]
    }
   ],
   "source": [
    "e2f = {\n",
    "    'Dogs': 'chein',\n",
    "    'cats': 'chat',\n",
    "    'walruses': 'morse'\n",
    "    }\n",
    "f2e = {}\n",
    "for english, french in e2f.items():\n",
    "    f2e[french] = english\n",
    "    \n",
    "print(f2e)"
   ]
  },
  {
   "cell_type": "markdown",
   "metadata": {},
   "source": [
    "13. Print the English version of the French word chien using f2e."
   ]
  },
  {
   "cell_type": "code",
   "execution_count": 89,
   "metadata": {},
   "outputs": [
    {
     "name": "stdout",
     "output_type": "stream",
     "text": [
      "Dogs\n"
     ]
    }
   ],
   "source": [
    "print(f2e['chein'])"
   ]
  },
  {
   "cell_type": "markdown",
   "metadata": {},
   "source": [
    "14. Create and print a list of English words using the e2f keys."
   ]
  },
  {
   "cell_type": "code",
   "execution_count": 78,
   "metadata": {},
   "outputs": [
    {
     "name": "stdout",
     "output_type": "stream",
     "text": [
      "['Dogs', 'cats', 'walruses']\n"
     ]
    }
   ],
   "source": [
    "e2f = {\n",
    "    'Dogs': 'chein',\n",
    "    'cats': 'chat',\n",
    "    'walruses': 'morse'\n",
    "    }\n",
    "English_words = list(e2f.keys())\n",
    "print(English_words)"
   ]
  },
  {
   "cell_type": "markdown",
   "metadata": {},
   "source": [
    "15. Build a life multilevel dictionary. Use the strings 'animals, plants, and other' for the topmost keys. Make the 'animals' key point to another dictionary containing the keys 'birds, octopi, and emus.' Let the 'cats' key apply to a list of strings containing the characters 'Henri,' 'Grumpy,' and 'Lucy.' All of the other keys should point to empty dictionaries"
   ]
  },
  {
   "cell_type": "code",
   "execution_count": 80,
   "metadata": {},
   "outputs": [
    {
     "name": "stdout",
     "output_type": "stream",
     "text": [
      "{'animals': {'birds': 'emus', 'aquatic': 'octopi', 'cats': ['Henri', 'Grumpy', 'Lucy']}, 'plants': {}, 'others': {}}\n"
     ]
    }
   ],
   "source": [
    "life = {\n",
    "    'animals':{'birds':'emus', 'aquatic': 'octopi', 'cats': ['Henri','Grumpy', 'Lucy']},\n",
    "    'plants':{},\n",
    "    'others' : {},\n",
    "}\n",
    "\n",
    "print(life)\n",
    "\n",
    "#note that some changes have been done since initial understanding of the question was unclear to me."
   ]
  },
  {
   "cell_type": "markdown",
   "metadata": {},
   "source": [
    "16. Print the top-level keys of life.\n",
    "\n"
   ]
  },
  {
   "cell_type": "code",
   "execution_count": 81,
   "metadata": {},
   "outputs": [
    {
     "name": "stdout",
     "output_type": "stream",
     "text": [
      "dict_keys(['animals', 'plants', 'others'])\n"
     ]
    }
   ],
   "source": [
    "#Top level keys-\n",
    "print(life.keys())"
   ]
  },
  {
   "cell_type": "markdown",
   "metadata": {},
   "source": [
    "17. Print the keys for life['animals']."
   ]
  },
  {
   "cell_type": "code",
   "execution_count": 82,
   "metadata": {},
   "outputs": [
    {
     "name": "stdout",
     "output_type": "stream",
     "text": [
      "dict_keys(['birds', 'aquatic', 'cats'])\n"
     ]
    }
   ],
   "source": [
    "print(life['animals'].keys())"
   ]
  },
  {
   "cell_type": "markdown",
   "metadata": {},
   "source": [
    "18. Print the values for life['animals']['cats']"
   ]
  },
  {
   "cell_type": "code",
   "execution_count": 83,
   "metadata": {},
   "outputs": [
    {
     "name": "stdout",
     "output_type": "stream",
     "text": [
      "['Henri', 'Grumpy', 'Lucy']\n"
     ]
    }
   ],
   "source": [
    "print(life['animals']['cats'])"
   ]
  },
  {
   "cell_type": "code",
   "execution_count": null,
   "metadata": {},
   "outputs": [],
   "source": [
    "#-----------------------------------End-----------------------------------------"
   ]
  }
 ],
 "metadata": {
  "kernelspec": {
   "display_name": "Python 3",
   "language": "python",
   "name": "python3"
  },
  "language_info": {
   "codemirror_mode": {
    "name": "ipython",
    "version": 3
   },
   "file_extension": ".py",
   "mimetype": "text/x-python",
   "name": "python",
   "nbconvert_exporter": "python",
   "pygments_lexer": "ipython3",
   "version": "3.8.5"
  },
  "varInspector": {
   "cols": {
    "lenName": 16,
    "lenType": 16,
    "lenVar": 40
   },
   "kernels_config": {
    "python": {
     "delete_cmd_postfix": "",
     "delete_cmd_prefix": "del ",
     "library": "var_list.py",
     "varRefreshCmd": "print(var_dic_list())"
    },
    "r": {
     "delete_cmd_postfix": ") ",
     "delete_cmd_prefix": "rm(",
     "library": "var_list.r",
     "varRefreshCmd": "cat(var_dic_list()) "
    }
   },
   "types_to_exclude": [
    "module",
    "function",
    "builtin_function_or_method",
    "instance",
    "_Feature"
   ],
   "window_display": false
  }
 },
 "nbformat": 4,
 "nbformat_minor": 4
}
