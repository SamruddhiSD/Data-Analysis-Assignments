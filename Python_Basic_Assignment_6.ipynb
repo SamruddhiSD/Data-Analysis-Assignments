{
 "cells": [
  {
   "cell_type": "code",
   "execution_count": 5,
   "metadata": {},
   "outputs": [
    {
     "name": "stdout",
     "output_type": "stream",
     "text": [
      "We are the so-called \"Vikings\" from the north.\n",
      "It's alright.\n"
     ]
    }
   ],
   "source": [
    "#1. What are escape characters, and how do you use them?\n",
    "'''\n",
    "1.To insert characters that are illegal in a string, use an escape character.\n",
    "2.An escape character is a backslash \\ followed by the character you want to insert.\n",
    "3.An example of an illegal character is a double quote inside a string that is surrounded by \n",
    "  double quotes.\n",
    "4.The escape character allows you to use double quotes when you normally would not be allowed.\n",
    "5.Other escape characters used in Python: \\',\\\\, \\n, \\r, \\t, \\b, \\f.\n",
    "\n",
    "'''\n",
    "#txt = \"We are the so-called \"Vikings\" from the north.\"       #Syntax Error\n",
    "txt = \"We are the so-called \\\"Vikings\\\" from the north.\"      #escape character backlash added.\n",
    "print(txt)\n",
    "\n",
    "#txt = 'It's alright.'      #Invalid syntax error\n",
    "txt = 'It\\'s alright.'      #escape character backlash added.\n",
    "print(txt)"
   ]
  },
  {
   "cell_type": "code",
   "execution_count": 9,
   "metadata": {},
   "outputs": [
    {
     "name": "stdout",
     "output_type": "stream",
     "text": [
      "Hello World!\n",
      "\n",
      "Hello\n",
      "World!\n",
      "\n",
      "Hello\tWorld!\n"
     ]
    }
   ],
   "source": [
    "#2. What do the escape characters n and t stand for?\n",
    "\n",
    "#\\n represents a new line whereas \\t represents tab.\n",
    "\n",
    "print('Hello World!')\n",
    "print()\n",
    "txt = \"Hello\\nWorld!\"   #\\n\n",
    "print(txt) \n",
    "print()\n",
    "txt = \"Hello\\tWorld!\"   #\\t\n",
    "print(txt) \n"
   ]
  },
  {
   "cell_type": "code",
   "execution_count": 15,
   "metadata": {},
   "outputs": [
    {
     "name": "stdout",
     "output_type": "stream",
     "text": [
      "Learning \\python\n"
     ]
    }
   ],
   "source": [
    "#3. What is the way to include backslash characters in a string?\n",
    "\n",
    "#-->Use the syntax \"\\\\\" within the string literal to represent a single backslash\n",
    "\n",
    "print('Learning \\\\python')"
   ]
  },
  {
   "cell_type": "code",
   "execution_count": 17,
   "metadata": {},
   "outputs": [
    {
     "name": "stdout",
     "output_type": "stream",
     "text": [
      "Howl's Moving Castle\n"
     ]
    }
   ],
   "source": [
    "#4. The string \"Howl's Moving Castle\" is a correct value. Why isn't the single quote character in \n",
    "#the word Howl's not escaped a problem?\n",
    "\n",
    "string = \"Howl's Moving Castle\"\n",
    "print(string)\n",
    "\n",
    "#Note that here we do not get any error is because we have used single quote inside double quotes.\n",
    "#We can also do vice versa. To use single quote inside a string surrounded by single quote or double\n",
    "#quote surrounded by double quotes, we need to use an escape character(\\)."
   ]
  },
  {
   "cell_type": "code",
   "execution_count": null,
   "metadata": {},
   "outputs": [],
   "source": [
    "#5. How do you write a string of newlines if you don't want to use the n character?\n",
    "\n",
    "'''Multiline strings allow you to use newlines in strings without the \\n escape character.\n",
    "We use three single quotes or three double quotes at end and beginning to define multiline strings.'''\n"
   ]
  },
  {
   "cell_type": "code",
   "execution_count": 19,
   "metadata": {},
   "outputs": [
    {
     "name": "stdout",
     "output_type": "stream",
     "text": [
      "e\n",
      "Hello\n",
      "Hello\n",
      "lo, world!\n"
     ]
    }
   ],
   "source": [
    "#6. What are the values of the given expressions?\n",
    "\n",
    "print('Hello, world!'[1])\n",
    "print('Hello, world!'[0:5])\n",
    "print('Hello, world!'[:5])\n",
    "print('Hello, world!'[3:])\n"
   ]
  },
  {
   "cell_type": "code",
   "execution_count": 20,
   "metadata": {},
   "outputs": [
    {
     "name": "stdout",
     "output_type": "stream",
     "text": [
      "HELLO\n",
      "True\n",
      "hello\n"
     ]
    }
   ],
   "source": [
    "#7. What are the values of the following expressions?\n",
    "\n",
    "print('Hello'.upper())\n",
    "print('Hello'.upper().isupper())\n",
    "print('Hello'.upper().lower())\n"
   ]
  },
  {
   "cell_type": "code",
   "execution_count": 23,
   "metadata": {},
   "outputs": [
    {
     "name": "stdout",
     "output_type": "stream",
     "text": [
      "['Remember,', 'remember,', 'the', 'fifth', 'of', 'July.']\n",
      "There-can-only-one.\n"
     ]
    }
   ],
   "source": [
    "#8. What are the values of the following expressions?\n",
    "\n",
    "print('Remember, remember, the fifth of July.'.split())\n",
    "print('-'.join('There can only one.'.split()))\n"
   ]
  },
  {
   "cell_type": "code",
   "execution_count": 29,
   "metadata": {
    "scrolled": true
   },
   "outputs": [
    {
     "name": "stdout",
     "output_type": "stream",
     "text": [
      "The original string is : I love python \n",
      "\n",
      "The center aligned string is : \n",
      "             I love python               \n",
      "\n",
      "Center aligned string with fillchr: \n",
      "#############I love python##############\n",
      "\n",
      "The original string is : \n",
      " I love python \n",
      "\n",
      "The left aligned string is : \n",
      "I love python---------------------------\n",
      "\n",
      "The original string is : \n",
      " I love python \n",
      "\n",
      "The left aligned string is : \n",
      "---------------------------I love python\n"
     ]
    }
   ],
   "source": [
    "#9. What are the methods for right-justifying, left-justifying, and centering a string?\n",
    "'''\n",
    "str.ljust(s, width[, fillchar])\n",
    "str.rjust(s, width[, fillchar])\n",
    "str.center(s, width[, fillchar])\n",
    "\n",
    "center()-\n",
    "This function center aligns the string according to the width specified and fills remaining space of\n",
    "line with blank space if ‘ fillchr ‘ argument is not passed.\n",
    "\n",
    "ljust()-\n",
    "This function left aligns the string according to the width specified and fills remaining space of \n",
    "line with blank space if ‘ fillchr ‘ argument is not passed.\n",
    "\n",
    "rjust()-\n",
    "This function right aligns the string according to the width specified and fills remaining space of \n",
    "line with blank space if ‘ fillchr ‘ argument is not passed.\n",
    "\n",
    "'''\n",
    "#center()\n",
    "cstr = \"I love python\"\n",
    "print (\"The original string is :\", cstr, '\\n') \n",
    "  \n",
    "# Printing the center aligned string  \n",
    "print (\"The center aligned string is : \") \n",
    "print (cstr.center(40), \"\\n\") \n",
    "  \n",
    "# Printing the center aligned  \n",
    "# string with fillchr \n",
    "print (\"Center aligned string with fillchr: \") \n",
    "print (cstr.center(40, '#'))\n",
    "print()\n",
    "\n",
    "\n",
    "#ljust()-\n",
    "\n",
    "lstr = \"I love python\"  \n",
    "# Printing the original string \n",
    "print (\"The original string is : \\n\", lstr, \"\\n\")   \n",
    "# Printing the left aligned  \n",
    "# string with \"-\" padding  \n",
    "print (\"The left aligned string is : \") \n",
    "print (lstr.ljust(40, '-')) \n",
    "print()\n",
    "\n",
    "#rjust()-\n",
    "\n",
    "lstr = \"I love python\"  \n",
    "# Printing the original string \n",
    "print (\"The original string is : \\n\", lstr, \"\\n\")   \n",
    "# Printing the left aligned  \n",
    "# string with \"-\" padding  \n",
    "print (\"The left aligned string is : \") \n",
    "print (lstr.rjust(40, '-')) \n"
   ]
  },
  {
   "cell_type": "code",
   "execution_count": 39,
   "metadata": {},
   "outputs": [
    {
     "name": "stdout",
     "output_type": "stream",
     "text": [
      "Hello  world!\n",
      "Hello  world!   \n",
      "   Hello  world!\n"
     ]
    }
   ],
   "source": [
    "#10. What is the best way to remove whitespace characters from the start or end?\n",
    "\n",
    "#strip() method can be used to remove whitespace from beginning and end.\n",
    "\n",
    "a = '   Hello  world!   '\n",
    "print(a.strip())\n",
    "print(a.lstrip())\n",
    "print(a.rstrip())"
   ]
  },
  {
   "cell_type": "code",
   "execution_count": null,
   "metadata": {},
   "outputs": [],
   "source": [
    "#------------------------------------------------End-------------------------------------------------"
   ]
  },
  {
   "cell_type": "code",
   "execution_count": null,
   "metadata": {},
   "outputs": [],
   "source": []
  }
 ],
 "metadata": {
  "kernelspec": {
   "display_name": "Python 3",
   "language": "python",
   "name": "python3"
  },
  "language_info": {
   "codemirror_mode": {
    "name": "ipython",
    "version": 3
   },
   "file_extension": ".py",
   "mimetype": "text/x-python",
   "name": "python",
   "nbconvert_exporter": "python",
   "pygments_lexer": "ipython3",
   "version": "3.8.5"
  },
  "varInspector": {
   "cols": {
    "lenName": 16,
    "lenType": 16,
    "lenVar": 40
   },
   "kernels_config": {
    "python": {
     "delete_cmd_postfix": "",
     "delete_cmd_prefix": "del ",
     "library": "var_list.py",
     "varRefreshCmd": "print(var_dic_list())"
    },
    "r": {
     "delete_cmd_postfix": ") ",
     "delete_cmd_prefix": "rm(",
     "library": "var_list.r",
     "varRefreshCmd": "cat(var_dic_list()) "
    }
   },
   "types_to_exclude": [
    "module",
    "function",
    "builtin_function_or_method",
    "instance",
    "_Feature"
   ],
   "window_display": false
  }
 },
 "nbformat": 4,
 "nbformat_minor": 4
}
