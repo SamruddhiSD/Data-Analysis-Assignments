{
 "cells": [
  {
   "cell_type": "code",
   "execution_count": 4,
   "metadata": {},
   "outputs": [
    {
     "name": "stdout",
     "output_type": "stream",
     "text": [
      "The original values are [[11, 13, 15, 19, 17], [13, 13, 15, 9, 10], [12, 14, 17, 11, 8], [10, 13, 8, 16, 20]]\n",
      "The unique dictionary values are [11, 13, 15, 19, 17, 9, 10, 12, 14, 8, 16, 20]\n"
     ]
    }
   ],
   "source": [
    "#1.\tWrite a Python program to Extract Unique dictionary values?\n",
    "\n",
    "marks = {'rollno':[11,13,15,19,17],\n",
    "          'eng':[13,13,15,9,10],\n",
    "          'maths':[12,14,17,11,8],\n",
    "          'science':[10,13,8,16,20]}\n",
    "\n",
    "unique_values = []\n",
    "for i in marks.values():\n",
    "    for j in i:\n",
    "        if j not in unique_values:\n",
    "            unique_values.append(j)\n",
    "\n",
    "print('The original values are', list(marks.values()))\n",
    "print('The unique dictionary values are',unique_values)\n",
    "\n"
   ]
  },
  {
   "cell_type": "code",
   "execution_count": 8,
   "metadata": {},
   "outputs": [
    {
     "name": "stdout",
     "output_type": "stream",
     "text": [
      "The sum of all items in dictionary are 75\n"
     ]
    }
   ],
   "source": [
    "#2.\tWrite a Python program to find the sum of all items in a dictionary?\n",
    "\n",
    "marks = {'eng':[13,13],\n",
    "         'maths':[12,14],\n",
    "         'science':[10,13]\n",
    "        }\n",
    "\n",
    "sum_items = 0\n",
    "for i in marks.values():\n",
    "    for j in i:\n",
    "        sum_items += j\n",
    "\n",
    "print('The sum of all items in dictionary are', sum_items)\n"
   ]
  },
  {
   "cell_type": "code",
   "execution_count": 16,
   "metadata": {
    "scrolled": false
   },
   "outputs": [
    {
     "name": "stdout",
     "output_type": "stream",
     "text": [
      "The merged dictionaries are:\n",
      "{1: 'Sara', 2: 'Zoya', 3: 'Kathy', 4: 'Allen', 5: 'Joseph', 6: 'Rachel'}\n"
     ]
    }
   ],
   "source": [
    "#3.\tWrite a Python program to Merging two Dictionaries?\n",
    "\n",
    "def merge_dict(dict1, dict2):\n",
    "    return (dict1.update(dict2))\n",
    "\n",
    "dict1 = {1:'Sara',2:'Zoya',3:'Kathy'}\n",
    "dict2 = {4:'Allen', 5:'Joseph',6:'Rachel'}\n",
    "\n",
    "print('The merged dictionaries are:')\n",
    "merge_dict(dict1,dict2)\n",
    "print(dict1)  #changes made to dict1.\n"
   ]
  },
  {
   "cell_type": "code",
   "execution_count": 48,
   "metadata": {},
   "outputs": [
    {
     "data": {
      "text/plain": [
       "{'Color': 'Royal Blue',\n",
       " 'Hobby': 'Painting & Reading',\n",
       " 'Song': 'Dancing with a Stranger',\n",
       " 'Food': 'Sweets'}"
      ]
     },
     "execution_count": 48,
     "metadata": {},
     "output_type": "execute_result"
    }
   ],
   "source": [
    "#4.\tWrite a Python program to convert key-values list to flat dictionary?\n",
    "\n",
    "keys = ['Color','Hobby','Song','Food']\n",
    "values = ['Royal Blue','Painting & Reading','Dancing with a Stranger','Sweets']\n",
    "\n",
    "z = zip(keys, values)\n",
    "d = dict(z)\n",
    "d\n"
   ]
  },
  {
   "cell_type": "code",
   "execution_count": 52,
   "metadata": {},
   "outputs": [
    {
     "name": "stdout",
     "output_type": "stream",
     "text": [
      "Resultant ordered dictionary\n",
      "OrderedDict([('geog', [15, 17]), ('eng', [13, 13]), ('maths', [12, 14]), ('science', [10, 13])])\n"
     ]
    }
   ],
   "source": [
    "#5.\tWrite a Python program to insertion at the beginning in OrderedDict?\n",
    "from collections import OrderedDict\n",
    "\n",
    "#Regular dictionary\n",
    "marks = {'eng':[13,13],\n",
    "         'maths':[12,14],\n",
    "         'science':[10,13]\n",
    "        }\n",
    "        \n",
    "#Ordered Dictionary-\n",
    "marks_ord = OrderedDict(marks)\n",
    "#Adding a new entry to the dictionary\n",
    "marks_ord.update({'geog':[15,17]})\n",
    "#Moving the element to the beginning\n",
    "marks_ord.move_to_end('geog', last = False)\n",
    "print('Resultant ordered dictionary')\n",
    "print(marks_ord)\n"
   ]
  },
  {
   "cell_type": "code",
   "execution_count": 46,
   "metadata": {
    "scrolled": true
   },
   "outputs": [
    {
     "name": "stdout",
     "output_type": "stream",
     "text": [
      "ordered\n"
     ]
    }
   ],
   "source": [
    "#6.\tWrite a Python program to check order of character in string using OrderedDict()?\n",
    "\n",
    "from collections import OrderedDict\n",
    "\n",
    "def check_ord(string,pattern):\n",
    "    ord_dict = OrderedDict.fromkeys(string)  #initializing ordered dict with only keys\n",
    "    count = 0\n",
    "    while count <len(pattern):\n",
    "        for key in ord_dict.keys():\n",
    "            if key == pattern[count]:\n",
    "                count += 1\n",
    "            if count == len(pattern):\n",
    "                return \"ordered\"\n",
    "    else:\n",
    "        return 'Not ordered'\n",
    "    \n",
    "\n",
    "string = 'flower'\n",
    "pattern = 'oer'\n",
    "print(check_ord(string,pattern))\n",
    "        \n"
   ]
  },
  {
   "cell_type": "code",
   "execution_count": 33,
   "metadata": {},
   "outputs": [
    {
     "name": "stdout",
     "output_type": "stream",
     "text": [
      "apple:4\n",
      "grapes:6\n",
      "kiwi:3\n",
      "mango:4\n",
      "['3', '4', '4', '6']\n"
     ]
    }
   ],
   "source": [
    "#7.\tWrite a Python program to sort Python Dictionaries by Key or Value?\n",
    "\n",
    "#Sorting by keys-\n",
    "fruits = {'mango':'4',\n",
    "          'kiwi':'3',\n",
    "          'apple':'4',\n",
    "          'grapes':'6'}\n",
    "\n",
    "for key in sorted(fruits):\n",
    "    print(\"{}:{}\".format(key, fruits[key]))\n",
    "    \n",
    "#Sorting by values:\n",
    "print(sorted(fruits.values()))"
   ]
  },
  {
   "cell_type": "code",
   "execution_count": null,
   "metadata": {},
   "outputs": [],
   "source": [
    "#-------------------End--------------------------------"
   ]
  }
 ],
 "metadata": {
  "kernelspec": {
   "display_name": "Python 3",
   "language": "python",
   "name": "python3"
  },
  "language_info": {
   "codemirror_mode": {
    "name": "ipython",
    "version": 3
   },
   "file_extension": ".py",
   "mimetype": "text/x-python",
   "name": "python",
   "nbconvert_exporter": "python",
   "pygments_lexer": "ipython3",
   "version": "3.8.5"
  },
  "varInspector": {
   "cols": {
    "lenName": 16,
    "lenType": 16,
    "lenVar": 40
   },
   "kernels_config": {
    "python": {
     "delete_cmd_postfix": "",
     "delete_cmd_prefix": "del ",
     "library": "var_list.py",
     "varRefreshCmd": "print(var_dic_list())"
    },
    "r": {
     "delete_cmd_postfix": ") ",
     "delete_cmd_prefix": "rm(",
     "library": "var_list.r",
     "varRefreshCmd": "cat(var_dic_list()) "
    }
   },
   "types_to_exclude": [
    "module",
    "function",
    "builtin_function_or_method",
    "instance",
    "_Feature"
   ],
   "window_display": false
  }
 },
 "nbformat": 4,
 "nbformat_minor": 4
}
