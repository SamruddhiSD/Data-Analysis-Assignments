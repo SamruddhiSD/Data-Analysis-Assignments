{
 "cells": [
  {
   "cell_type": "code",
   "execution_count": null,
   "metadata": {},
   "outputs": [],
   "source": [
    "#1. What exactly is []?\n",
    "\"\"\"\n",
    "This represents an empty list. A list with no elements present in it.\n",
    "\"\"\""
   ]
  },
  {
   "cell_type": "code",
   "execution_count": 1,
   "metadata": {},
   "outputs": [
    {
     "name": "stdout",
     "output_type": "stream",
     "text": [
      "[2, 4, 'hello', 8, 10]\n"
     ]
    }
   ],
   "source": [
    "#2. In a list of values stored in a variable called spam, how would you assign the value 'hello'\n",
    "#as the third value? (Assume [2, 4, 6, 8, 10] are in spam.)\n",
    "\n",
    "spam = [2,4,6,8,10]\n",
    "spam[2] = 'hello'\n",
    "print(spam)"
   ]
  },
  {
   "cell_type": "code",
   "execution_count": 2,
   "metadata": {},
   "outputs": [
    {
     "data": {
      "text/plain": [
       "'d'"
      ]
     },
     "execution_count": 2,
     "metadata": {},
     "output_type": "execute_result"
    }
   ],
   "source": [
    "#3. What is the value of spam[int(int('3' * 2) / 11)]?\n",
    "spam = ['a', 'b', 'c', 'd'] \n",
    "spam[int(int('3' * 2) / 11)]"
   ]
  },
  {
   "cell_type": "code",
   "execution_count": 3,
   "metadata": {},
   "outputs": [
    {
     "data": {
      "text/plain": [
       "'d'"
      ]
     },
     "execution_count": 3,
     "metadata": {},
     "output_type": "execute_result"
    }
   ],
   "source": [
    "#4. What is the value of spam[-1]?\n",
    "spam = ['a', 'b', 'c', 'd'] \n",
    "spam[-1]\n"
   ]
  },
  {
   "cell_type": "code",
   "execution_count": 4,
   "metadata": {},
   "outputs": [
    {
     "data": {
      "text/plain": [
       "['a', 'b']"
      ]
     },
     "execution_count": 4,
     "metadata": {},
     "output_type": "execute_result"
    }
   ],
   "source": [
    "#5. What is the value of spam[:2]?\n",
    "spam = ['a', 'b', 'c', 'd'] \n",
    "spam[:2]"
   ]
  },
  {
   "cell_type": "code",
   "execution_count": 10,
   "metadata": {},
   "outputs": [
    {
     "name": "stdout",
     "output_type": "stream",
     "text": [
      "1\n",
      "\n",
      "After appending 99 to the list bacon:\n",
      "[3.14, 'cat', 11, 'cat', True, 99]\n",
      "\n",
      "After removing cat from the list:\n",
      "[3.14, 11, 'cat', True, 99]\n"
     ]
    }
   ],
   "source": [
    "#6. What is the value of bacon.index('cat')?\n",
    "bacon = [3.14, 'cat', 11, 'cat', True]\n",
    "print(bacon.index('cat'))\n",
    "print()\n",
    "\n",
    "#7. How does bacon.append(99) change the look of the list value in bacon?\n",
    "bacon.append(99)\n",
    "print('After appending 99 to the list bacon:')\n",
    "print(bacon)\n",
    "print()\n",
    "\n",
    "#8. How does bacon.remove('cat') change the look of the list meaning in bacon?\n",
    "bacon.remove('cat')\n",
    "print('After removing cat from the list:')\n",
    "print(bacon)"
   ]
  },
  {
   "cell_type": "code",
   "execution_count": 12,
   "metadata": {},
   "outputs": [
    {
     "name": "stdout",
     "output_type": "stream",
     "text": [
      "The list after concatenating 2 lists is:\n",
      "['A', 'B', 'C', 'A', 500, 'C', 240]\n",
      "\n",
      "Replicating the list 4 times-\n",
      "['aa', 'bb', 'cc', 'aa', 'bb', 'cc', 'aa', 'bb', 'cc', 'aa', 'bb', 'cc']\n"
     ]
    }
   ],
   "source": [
    "#9. What are the list concatenation and list replication operators?\n",
    "\"\"\"\n",
    "The operator for list concatenation is +, while the operator for replication is *.\n",
    "The multiplication operator acts as a replication operator when we have one string and one integer as\n",
    "operands.\n",
    "\n",
    "\"\"\"\n",
    "#Concatenation of list-\n",
    "lst1 = ['A','B','C']\n",
    "lst2 = ['A', 500,'C',240]\n",
    "lst3 = lst1 + lst2\n",
    "print('The list after concatenating 2 lists is:')\n",
    "print(lst3)\n",
    "print()\n",
    "\n",
    "#Replication of list\n",
    "lst = ['aa', 'bb','cc']\n",
    "print('Replicating the list 4 times-')\n",
    "print(lst*4)\n",
    "\n"
   ]
  },
  {
   "cell_type": "code",
   "execution_count": 15,
   "metadata": {},
   "outputs": [
    {
     "name": "stdout",
     "output_type": "stream",
     "text": [
      "Appending Plum to the list-\n",
      "['Mango', 'Guava', 'Cherry', 'Plum']\n",
      "\n",
      "Inserting Orange at index location 1-\n",
      "['Mango', 'Orange', 'Guava', 'Cherry']\n"
     ]
    }
   ],
   "source": [
    "#10. What is difference between the list methods append() and insert()?\n",
    "'''\n",
    "Both the methods of append() and insert() are used to change the existing list  by adding\n",
    "new elements to the list.\n",
    "\n",
    "append()- This method adds the specified element at the last location in the original list.\n",
    "syntax- lst.append(item)\n",
    "\n",
    "insert()- This method adds the specified element at the desired location in the list. We have to specify\n",
    "the index position along with the item to be added to the original list.\n",
    "syntax- lst.insert(index location, item)\n",
    "\n",
    "\n",
    "'''\n",
    "#append() example-\n",
    "lst = ['Mango','Guava','Cherry']\n",
    "print('Appending Plum to the list-')\n",
    "lst.append(\"Plum\")\n",
    "print(lst)\n",
    "print()\n",
    "\n",
    "#insert() example-\n",
    "lst = ['Mango','Guava','Cherry']\n",
    "print('Inserting Orange at index location 1-')\n",
    "lst.insert(1,'Orange')\n",
    "print(lst)"
   ]
  },
  {
   "cell_type": "code",
   "execution_count": 18,
   "metadata": {},
   "outputs": [
    {
     "name": "stdout",
     "output_type": "stream",
     "text": [
      "Removing apple from the list using remove method-\n",
      "['Mango', 'Guava', 'Cherry', 'Lichi']\n",
      "\n",
      "Removing using pop method\n",
      "['Mango', 'Guava', 'Cherry']\n",
      "['Guava', 'Cherry']\n"
     ]
    }
   ],
   "source": [
    "#11. What are the two methods for removing items from a list?\n",
    "'''\n",
    "Items in a list can be removed by remove() and pop() method.\n",
    "remove()- This method removes the specified element from the list.\n",
    "\n",
    "pop()- This method removes the last element of the list if no index is specified inside pop. Otherwise\n",
    "it removes the item at the specified index from the list.\n",
    "\n",
    "'''\n",
    "#remove() example-\n",
    "fruits = ['Mango','Guava','Apple','Cherry','Lichi']\n",
    "print('Removing apple from the list using remove method-')\n",
    "fruits.remove('Apple')\n",
    "print(fruits)\n",
    "print()\n",
    "\n",
    "#pop() example-\n",
    "print('Removing using pop method')\n",
    "fruits.pop()    #since no index specified inside pop, by default last element gets removed.\n",
    "print(fruits)\n",
    "fruits.pop(0)   #element of 0th index gets removed.\n",
    "print(fruits)"
   ]
  },
  {
   "cell_type": "code",
   "execution_count": null,
   "metadata": {},
   "outputs": [],
   "source": [
    "#12. Describe how list values and string values are identical.\n",
    "'''\n",
    "1.List values and string values both can be indexed, sliced and looped.\n",
    "2.Both can contain duplicate elements.\n",
    "'''"
   ]
  },
  {
   "cell_type": "code",
   "execution_count": null,
   "metadata": {},
   "outputs": [],
   "source": [
    "#13.What's the difference between tuples and lists?\n",
    "'''\n",
    "1.Lists and tuples are mostly similar with some differences.\n",
    "2.Lists defined by square brackets [] while tuples defined by round brackets().\n",
    "3.Lists are mutable meaning that elements can be added to list, removed from list whereas tuples\n",
    "are immutable meaning that elements of a tuple cannot be changed once assigned.\n",
    "4.Lists can be expanded to include more objects using append, insert, extend methods whereas tuples\n",
    "are static and hance cannot be expanded.\n",
    "5.Tuple is faster than list because it is static in nature.\n",
    "\n",
    "'''"
   ]
  },
  {
   "cell_type": "code",
   "execution_count": 19,
   "metadata": {},
   "outputs": [
    {
     "name": "stdout",
     "output_type": "stream",
     "text": [
      "42 <class 'int'>\n",
      "(42,) <class 'tuple'>\n"
     ]
    }
   ],
   "source": [
    "#14. How do you type a tuple value that only contains the integer 42?\n",
    "\n",
    "\"\"\"Note that to create a tuple with only 1 item, you have to add a comma after the item, otherwise\n",
    "python does not recognize it as a tuple.\"\"\"\n",
    "\n",
    "tup = (42)\n",
    "print(tup, type(tup))\n",
    "\n",
    "tup = (42,)\n",
    "print(tup, type(tup))\n"
   ]
  },
  {
   "cell_type": "code",
   "execution_count": 23,
   "metadata": {
    "scrolled": true
   },
   "outputs": [
    {
     "name": "stdout",
     "output_type": "stream",
     "text": [
      "Original type is- <class 'list'>\n",
      "After changing type-\n",
      "(12, 14, 16, 'mango', True) <class 'tuple'>\n",
      "\n",
      "Original type is- <class 'tuple'>\n",
      "After changing type-\n",
      "[1, 3, 'python'] <class 'list'>\n"
     ]
    }
   ],
   "source": [
    "#15. How do you get a list value's tuple form? How do you get a tuple value's list form?\n",
    "\n",
    "#list to  tuple-\n",
    "lst = [12,14,16,'mango',True]\n",
    "print('Original type is-', type(lst))\n",
    "tuple_form_of_lst = tuple(lst)\n",
    "print('After changing type-')\n",
    "print(tuple_form_of_lst, type(tuple_form_of_lst))\n",
    "print()\n",
    "\n",
    "#tuple to list-\n",
    "tup = (1,3,'python')\n",
    "print('Original type is-', type(tup))\n",
    "list_form_of_tuple = list(tup)\n",
    "print('After changing type-')\n",
    "print(list_form_of_tuple, type(list_form_of_tuple))"
   ]
  },
  {
   "cell_type": "code",
   "execution_count": 4,
   "metadata": {},
   "outputs": [
    {
     "data": {
      "text/plain": [
       "\"\\nDictionary as well as tuple can contain list values but these aren't list themselves.\\n\""
      ]
     },
     "execution_count": 4,
     "metadata": {},
     "output_type": "execute_result"
    }
   ],
   "source": [
    "#16. Variables that \"contain\" list values are not necessarily lists themselves. Instead, what do \n",
    "#they contain?\n",
    "'''\n",
    "Dictionary as well as tuple can contain list values but these aren't list themselves.\n",
    "'''"
   ]
  },
  {
   "cell_type": "code",
   "execution_count": 31,
   "metadata": {},
   "outputs": [
    {
     "name": "stdout",
     "output_type": "stream",
     "text": [
      "Original list lst- [10, 'python', 76.5, (12, 16, 1), 'hello']\n",
      "\n",
      "Copied list lst2 - [10, 'python', 76.5, (12, 16, 1), 'hello']\n",
      "After changes the list becomes-\n",
      "[10, 'python', 76.5, (12, 16, 1), 'hello']\n",
      "[10, 'Java', 76.5, (12, 16, 1), 'hello']\n",
      "\n",
      "Deepcopied list lst3- [10, 'python', 76.5, (12, 16, 1), 'hello']\n",
      "After changes the list becomes-\n",
      "[10, 'python', 76.5, (12, 16, 1), 'hello']\n",
      "[10, 'python', 76.5, 10000, 'hello']\n"
     ]
    }
   ],
   "source": [
    "#17. How do you distinguish between copy.copy() and copy.deepcopy()?\n",
    "\"\"\"\n",
    "copy()- This method creates reference to original object. If you change copied object - you change the\n",
    "original object.\n",
    "\n",
    "deepcopy()- This method creates new object and does real copying of original object to new one. \n",
    "Changing new deepcopied object doesn't affect original object.\n",
    "\n",
    "\"\"\"\n",
    "import copy  #importing the copy module.\n",
    "lst = [10, 'python', 76.5,(12,16,1),'hello']\n",
    "print('Original list lst-', lst)\n",
    "print()\n",
    "\n",
    "#copying the original list-\n",
    "lst2 = copy.copy(lst)\n",
    "print('Copied list lst2 -', lst2)\n",
    "lst2[1]='Java'\n",
    "print('After changes the list becomes-')\n",
    "print(lst)\n",
    "print(lst2)\n",
    "print()\n",
    "\n",
    "#deepcopying the original list-\n",
    "lst3 = copy.deepcopy(lst)\n",
    "print('Deepcopied list lst3-', lst3)\n",
    "lst3[3]= 10000\n",
    "print('After changes the list becomes-')\n",
    "print(lst)\n",
    "print(lst3)"
   ]
  },
  {
   "cell_type": "code",
   "execution_count": null,
   "metadata": {},
   "outputs": [],
   "source": [
    "#---------------------------------------end-------------------------------------------------------"
   ]
  }
 ],
 "metadata": {
  "kernelspec": {
   "display_name": "Python 3",
   "language": "python",
   "name": "python3"
  },
  "language_info": {
   "codemirror_mode": {
    "name": "ipython",
    "version": 3
   },
   "file_extension": ".py",
   "mimetype": "text/x-python",
   "name": "python",
   "nbconvert_exporter": "python",
   "pygments_lexer": "ipython3",
   "version": "3.8.5"
  },
  "varInspector": {
   "cols": {
    "lenName": 16,
    "lenType": 16,
    "lenVar": 40
   },
   "kernels_config": {
    "python": {
     "delete_cmd_postfix": "",
     "delete_cmd_prefix": "del ",
     "library": "var_list.py",
     "varRefreshCmd": "print(var_dic_list())"
    },
    "r": {
     "delete_cmd_postfix": ") ",
     "delete_cmd_prefix": "rm(",
     "library": "var_list.r",
     "varRefreshCmd": "cat(var_dic_list()) "
    }
   },
   "types_to_exclude": [
    "module",
    "function",
    "builtin_function_or_method",
    "instance",
    "_Feature"
   ],
   "window_display": false
  }
 },
 "nbformat": 4,
 "nbformat_minor": 4
}
