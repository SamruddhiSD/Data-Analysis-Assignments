{
 "cells": [
  {
   "cell_type": "code",
   "execution_count": 5,
   "metadata": {},
   "outputs": [
    {
     "name": "stdout",
     "output_type": "stream",
     "text": [
      "Enter any number:-89\n",
      "Number is negative\n"
     ]
    }
   ],
   "source": [
    "#1.\tWrite a Python Program to Check if a Number is Positive, Negative or Zero?\n",
    "\n",
    "num = int(input('Enter any number:'))\n",
    "if num == 0:\n",
    "    print('Number is equal to zero')\n",
    "elif num>0:\n",
    "    print('Number is positive')\n",
    "else:\n",
    "    print('Number is negative')\n",
    "    "
   ]
  },
  {
   "cell_type": "code",
   "execution_count": 7,
   "metadata": {},
   "outputs": [
    {
     "name": "stdout",
     "output_type": "stream",
     "text": [
      "Enter any number:51\n",
      "Number is odd\n"
     ]
    }
   ],
   "source": [
    "#2.\tWrite a Python Program to Check if a Number is Odd or Even?\n",
    "\n",
    "num = int(input('Enter any number:'))\n",
    "if num % 2 == 0:\n",
    "    print('Number is even')\n",
    "else:\n",
    "    print('Number is odd')"
   ]
  },
  {
   "cell_type": "code",
   "execution_count": 3,
   "metadata": {},
   "outputs": [
    {
     "name": "stdout",
     "output_type": "stream",
     "text": [
      "Enter a year: 1956\n",
      "1956 is a leap year\n"
     ]
    }
   ],
   "source": [
    "#3.\tWrite a Python Program to Check Leap Year?\n",
    "\n",
    "year = int(input(\"Enter a year: \"))\n",
    "if (year % 4) == 0:\n",
    "    if (year % 100) == 0:\n",
    "        if (year % 400) == 0:\n",
    "            print(\"{} is a leap year\".format(year))\n",
    "        else:\n",
    "            print(\"{} is not a leap year\".format(year))\n",
    "    else:\n",
    "        print(\"{} is a leap year\".format(year))\n",
    "else:\n",
    "    print(\"{} is not a leap year\".format(year))"
   ]
  },
  {
   "cell_type": "code",
   "execution_count": 16,
   "metadata": {},
   "outputs": [
    {
     "name": "stdout",
     "output_type": "stream",
     "text": [
      "Enter any number:19\n",
      "Number is prime\n"
     ]
    }
   ],
   "source": [
    "#4.\tWrite a Python Program to Check Prime Number?\n",
    "\n",
    "num = int(input('Enter any number:'))\n",
    "count = 0\n",
    "if num > 1:\n",
    "    for i in range(2, num):\n",
    "        if num % i == 0:\n",
    "            count += 1\n",
    "            break\n",
    "    if count > 0:\n",
    "        print('Number is not prime')\n",
    "    else:\n",
    "        print('Number is prime')\n",
    "elif num < 1:\n",
    "    print('Non-Positive numbers cannot be prime')"
   ]
  },
  {
   "cell_type": "code",
   "execution_count": 28,
   "metadata": {},
   "outputs": [
    {
     "name": "stdout",
     "output_type": "stream",
     "text": [
      "Prime numbers between 1-1000 are: [2, 3, 5, 7, 11, 13, 17, 19, 23, 29, 31, 37, 41, 43, 47, 53, 59, 61, 67, 71, 73, 79, 83, 89, 97, 101, 103, 107, 109, 113, 127, 131, 137, 139, 149, 151, 157, 163, 167, 173, 179, 181, 191, 193, 197, 199, 211, 223, 227, 229, 233, 239, 241, 251, 257, 263, 269, 271, 277, 281, 283, 293, 307, 311, 313, 317, 331, 337, 347, 349, 353, 359, 367, 373, 379, 383, 389, 397, 401, 409, 419, 421, 431, 433, 439, 443, 449, 457, 461, 463, 467, 479, 487, 491, 499, 503, 509, 521, 523, 541, 547, 557, 563, 569, 571, 577, 587, 593, 599, 601, 607, 613, 617, 619, 631, 641, 643, 647, 653, 659, 661, 673, 677, 683, 691, 701, 709, 719, 727, 733, 739, 743, 751, 757, 761, 769, 773, 787, 797, 809, 811, 821, 823, 827, 829, 839, 853, 857, 859, 863, 877, 881, 883, 887, 907, 911, 919, 929, 937, 941, 947, 953, 967, 971, 977, 983, 991, 997]\n"
     ]
    }
   ],
   "source": [
    "#5.Write a Python Program to Print all Prime Numbers in an Interval of 1-10000?\n",
    "prime = []\n",
    "for num in range(1,1001):\n",
    "    if num > 1:\n",
    "        for i in range(2,num):\n",
    "            if num%i == 0:\n",
    "                break\n",
    "        else:\n",
    "                prime.append(num)\n",
    "print(\"Prime numbers between 1-1000 are:\",prime)\n",
    "\n",
    "\n",
    "\n",
    "#Note that the size range has been reduced to 1001 because jupyter NB was crashing for 10001 iterations."
   ]
  },
  {
   "cell_type": "code",
   "execution_count": null,
   "metadata": {},
   "outputs": [],
   "source": []
  },
  {
   "cell_type": "code",
   "execution_count": null,
   "metadata": {},
   "outputs": [],
   "source": [
    "#-------------------------------------End----------------------------------------"
   ]
  }
 ],
 "metadata": {
  "kernelspec": {
   "display_name": "Python 3",
   "language": "python",
   "name": "python3"
  },
  "language_info": {
   "codemirror_mode": {
    "name": "ipython",
    "version": 3
   },
   "file_extension": ".py",
   "mimetype": "text/x-python",
   "name": "python",
   "nbconvert_exporter": "python",
   "pygments_lexer": "ipython3",
   "version": "3.8.5"
  },
  "varInspector": {
   "cols": {
    "lenName": 16,
    "lenType": 16,
    "lenVar": 40
   },
   "kernels_config": {
    "python": {
     "delete_cmd_postfix": "",
     "delete_cmd_prefix": "del ",
     "library": "var_list.py",
     "varRefreshCmd": "print(var_dic_list())"
    },
    "r": {
     "delete_cmd_postfix": ") ",
     "delete_cmd_prefix": "rm(",
     "library": "var_list.r",
     "varRefreshCmd": "cat(var_dic_list()) "
    }
   },
   "types_to_exclude": [
    "module",
    "function",
    "builtin_function_or_method",
    "instance",
    "_Feature"
   ],
   "window_display": false
  }
 },
 "nbformat": 4,
 "nbformat_minor": 4
}
