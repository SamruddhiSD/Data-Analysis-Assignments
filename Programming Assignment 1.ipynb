{
 "cells": [
  {
   "cell_type": "code",
   "execution_count": 1,
   "metadata": {},
   "outputs": [
    {
     "name": "stdout",
     "output_type": "stream",
     "text": [
      "Hello Python\n"
     ]
    }
   ],
   "source": [
    "#1.\tWrite a Python program to print \"Hello Python\"?\n",
    "print('Hello Python')"
   ]
  },
  {
   "cell_type": "code",
   "execution_count": 2,
   "metadata": {},
   "outputs": [
    {
     "name": "stdout",
     "output_type": "stream",
     "text": [
      "Sum of numbers is 9\n",
      "Dividing one number by second gives 1.25\n"
     ]
    }
   ],
   "source": [
    "#2.\tWrite a Python program to do arithmetical operations addition and division.?\n",
    "a =5\n",
    "b =4\n",
    "print('Sum of numbers is',a+b)\n",
    "print('Dividing one number by second gives', a/b)\n"
   ]
  },
  {
   "cell_type": "code",
   "execution_count": 3,
   "metadata": {},
   "outputs": [
    {
     "name": "stdout",
     "output_type": "stream",
     "text": [
      "Area of triangle is 375.0\n"
     ]
    }
   ],
   "source": [
    "#3.\tWrite a Python program to find the area of a triangle?\n",
    "\n",
    "base = 15\n",
    "height = 50\n",
    "area_of_triangle = 0.5*base*height\n",
    "print('Area of triangle is', area_of_triangle)"
   ]
  },
  {
   "cell_type": "code",
   "execution_count": 5,
   "metadata": {},
   "outputs": [
    {
     "name": "stdout",
     "output_type": "stream",
     "text": [
      "Original numbers 10 20\n",
      "After swapping 20 10\n"
     ]
    }
   ],
   "source": [
    "#4.\tWrite a Python program to swap two variables?\n",
    "\n",
    "a = 10\n",
    "b = 20\n",
    "print('Original numbers', a,b)\n",
    "#Swapping the variables-\n",
    "c = a\n",
    "a = b\n",
    "b = c\n",
    "print('After swapping', a,b)\n"
   ]
  },
  {
   "cell_type": "code",
   "execution_count": 6,
   "metadata": {},
   "outputs": [
    {
     "name": "stdout",
     "output_type": "stream",
     "text": [
      "2\n"
     ]
    }
   ],
   "source": [
    "#5.\tWrite a Python program to generate a random number?\n",
    "\n",
    "import random\n",
    "\n",
    "print(random.randint(0,10))"
   ]
  },
  {
   "cell_type": "code",
   "execution_count": null,
   "metadata": {},
   "outputs": [],
   "source": [
    "#----------End-------------"
   ]
  }
 ],
 "metadata": {
  "kernelspec": {
   "display_name": "Python 3",
   "language": "python",
   "name": "python3"
  },
  "language_info": {
   "codemirror_mode": {
    "name": "ipython",
    "version": 3
   },
   "file_extension": ".py",
   "mimetype": "text/x-python",
   "name": "python",
   "nbconvert_exporter": "python",
   "pygments_lexer": "ipython3",
   "version": "3.8.5"
  },
  "varInspector": {
   "cols": {
    "lenName": 16,
    "lenType": 16,
    "lenVar": 40
   },
   "kernels_config": {
    "python": {
     "delete_cmd_postfix": "",
     "delete_cmd_prefix": "del ",
     "library": "var_list.py",
     "varRefreshCmd": "print(var_dic_list())"
    },
    "r": {
     "delete_cmd_postfix": ") ",
     "delete_cmd_prefix": "rm(",
     "library": "var_list.r",
     "varRefreshCmd": "cat(var_dic_list()) "
    }
   },
   "types_to_exclude": [
    "module",
    "function",
    "builtin_function_or_method",
    "instance",
    "_Feature"
   ],
   "window_display": false
  }
 },
 "nbformat": 4,
 "nbformat_minor": 4
}
